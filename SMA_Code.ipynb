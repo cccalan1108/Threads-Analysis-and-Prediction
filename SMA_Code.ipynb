{
  "cells": [
    {
      "cell_type": "markdown",
      "metadata": {
        "id": "T6sEhoTFDEH3"
      },
      "source": [
        "## 安裝套件"
      ]
    },
    {
      "cell_type": "code",
      "execution_count": null,
      "metadata": {
        "colab": {
          "base_uri": "https://localhost:8080/"
        },
        "id": "2V9shIFDDG3J",
        "outputId": "72d8024f-64c8-41fc-8ca0-00a5bffe1574"
      },
      "outputs": [
        {
          "output_type": "stream",
          "name": "stdout",
          "text": [
            "Requirement already satisfied: jieba in /usr/local/lib/python3.11/dist-packages (0.42.1)\n",
            "Collecting emoji\n",
            "  Downloading emoji-2.14.1-py3-none-any.whl.metadata (5.7 kB)\n",
            "Collecting langdetect\n",
            "  Downloading langdetect-1.0.9.tar.gz (981 kB)\n",
            "\u001b[2K     \u001b[90m━━━━━━━━━━━━━━━━━━━━━━━━━━━━━━━━━━━━━━\u001b[0m \u001b[32m981.5/981.5 kB\u001b[0m \u001b[31m23.8 MB/s\u001b[0m eta \u001b[36m0:00:00\u001b[0m\n",
            "\u001b[?25h  Preparing metadata (setup.py) ... \u001b[?25l\u001b[?25hdone\n",
            "Requirement already satisfied: six in /usr/local/lib/python3.11/dist-packages (from langdetect) (1.17.0)\n",
            "Downloading emoji-2.14.1-py3-none-any.whl (590 kB)\n",
            "\u001b[2K   \u001b[90m━━━━━━━━━━━━━━━━━━━━━━━━━━━━━━━━━━━━━━━━\u001b[0m \u001b[32m590.6/590.6 kB\u001b[0m \u001b[31m40.9 MB/s\u001b[0m eta \u001b[36m0:00:00\u001b[0m\n",
            "\u001b[?25hBuilding wheels for collected packages: langdetect\n",
            "  Building wheel for langdetect (setup.py) ... \u001b[?25l\u001b[?25hdone\n",
            "  Created wheel for langdetect: filename=langdetect-1.0.9-py3-none-any.whl size=993223 sha256=4e1609d1c583813437d8d71d8981c298c515062526bf51e2e900b0b88f40d93f\n",
            "  Stored in directory: /root/.cache/pip/wheels/0a/f2/b2/e5ca405801e05eb7c8ed5b3b4bcf1fcabcd6272c167640072e\n",
            "Successfully built langdetect\n",
            "Installing collected packages: langdetect, emoji\n",
            "Successfully installed emoji-2.14.1 langdetect-1.0.9\n",
            "Collecting datasets\n",
            "  Downloading datasets-3.6.0-py3-none-any.whl.metadata (19 kB)\n",
            "Requirement already satisfied: filelock in /usr/local/lib/python3.11/dist-packages (from datasets) (3.18.0)\n",
            "Requirement already satisfied: numpy>=1.17 in /usr/local/lib/python3.11/dist-packages (from datasets) (2.0.2)\n",
            "Requirement already satisfied: pyarrow>=15.0.0 in /usr/local/lib/python3.11/dist-packages (from datasets) (18.1.0)\n",
            "Collecting dill<0.3.9,>=0.3.0 (from datasets)\n",
            "  Downloading dill-0.3.8-py3-none-any.whl.metadata (10 kB)\n",
            "Requirement already satisfied: pandas in /usr/local/lib/python3.11/dist-packages (from datasets) (2.2.2)\n",
            "Requirement already satisfied: requests>=2.32.2 in /usr/local/lib/python3.11/dist-packages (from datasets) (2.32.3)\n",
            "Requirement already satisfied: tqdm>=4.66.3 in /usr/local/lib/python3.11/dist-packages (from datasets) (4.67.1)\n",
            "Collecting xxhash (from datasets)\n",
            "  Downloading xxhash-3.5.0-cp311-cp311-manylinux_2_17_x86_64.manylinux2014_x86_64.whl.metadata (12 kB)\n",
            "Collecting multiprocess<0.70.17 (from datasets)\n",
            "  Downloading multiprocess-0.70.16-py311-none-any.whl.metadata (7.2 kB)\n",
            "Collecting fsspec<=2025.3.0,>=2023.1.0 (from fsspec[http]<=2025.3.0,>=2023.1.0->datasets)\n",
            "  Downloading fsspec-2025.3.0-py3-none-any.whl.metadata (11 kB)\n",
            "Requirement already satisfied: huggingface-hub>=0.24.0 in /usr/local/lib/python3.11/dist-packages (from datasets) (0.30.2)\n",
            "Requirement already satisfied: packaging in /usr/local/lib/python3.11/dist-packages (from datasets) (24.2)\n",
            "Requirement already satisfied: pyyaml>=5.1 in /usr/local/lib/python3.11/dist-packages (from datasets) (6.0.2)\n",
            "Requirement already satisfied: aiohttp!=4.0.0a0,!=4.0.0a1 in /usr/local/lib/python3.11/dist-packages (from fsspec[http]<=2025.3.0,>=2023.1.0->datasets) (3.11.15)\n",
            "Requirement already satisfied: typing-extensions>=3.7.4.3 in /usr/local/lib/python3.11/dist-packages (from huggingface-hub>=0.24.0->datasets) (4.13.2)\n",
            "Requirement already satisfied: charset-normalizer<4,>=2 in /usr/local/lib/python3.11/dist-packages (from requests>=2.32.2->datasets) (3.4.1)\n",
            "Requirement already satisfied: idna<4,>=2.5 in /usr/local/lib/python3.11/dist-packages (from requests>=2.32.2->datasets) (3.10)\n",
            "Requirement already satisfied: urllib3<3,>=1.21.1 in /usr/local/lib/python3.11/dist-packages (from requests>=2.32.2->datasets) (2.4.0)\n",
            "Requirement already satisfied: certifi>=2017.4.17 in /usr/local/lib/python3.11/dist-packages (from requests>=2.32.2->datasets) (2025.4.26)\n",
            "Requirement already satisfied: python-dateutil>=2.8.2 in /usr/local/lib/python3.11/dist-packages (from pandas->datasets) (2.9.0.post0)\n",
            "Requirement already satisfied: pytz>=2020.1 in /usr/local/lib/python3.11/dist-packages (from pandas->datasets) (2025.2)\n",
            "Requirement already satisfied: tzdata>=2022.7 in /usr/local/lib/python3.11/dist-packages (from pandas->datasets) (2025.2)\n",
            "Requirement already satisfied: aiohappyeyeballs>=2.3.0 in /usr/local/lib/python3.11/dist-packages (from aiohttp!=4.0.0a0,!=4.0.0a1->fsspec[http]<=2025.3.0,>=2023.1.0->datasets) (2.6.1)\n",
            "Requirement already satisfied: aiosignal>=1.1.2 in /usr/local/lib/python3.11/dist-packages (from aiohttp!=4.0.0a0,!=4.0.0a1->fsspec[http]<=2025.3.0,>=2023.1.0->datasets) (1.3.2)\n",
            "Requirement already satisfied: attrs>=17.3.0 in /usr/local/lib/python3.11/dist-packages (from aiohttp!=4.0.0a0,!=4.0.0a1->fsspec[http]<=2025.3.0,>=2023.1.0->datasets) (25.3.0)\n",
            "Requirement already satisfied: frozenlist>=1.1.1 in /usr/local/lib/python3.11/dist-packages (from aiohttp!=4.0.0a0,!=4.0.0a1->fsspec[http]<=2025.3.0,>=2023.1.0->datasets) (1.6.0)\n",
            "Requirement already satisfied: multidict<7.0,>=4.5 in /usr/local/lib/python3.11/dist-packages (from aiohttp!=4.0.0a0,!=4.0.0a1->fsspec[http]<=2025.3.0,>=2023.1.0->datasets) (6.4.3)\n",
            "Requirement already satisfied: propcache>=0.2.0 in /usr/local/lib/python3.11/dist-packages (from aiohttp!=4.0.0a0,!=4.0.0a1->fsspec[http]<=2025.3.0,>=2023.1.0->datasets) (0.3.1)\n",
            "Requirement already satisfied: yarl<2.0,>=1.17.0 in /usr/local/lib/python3.11/dist-packages (from aiohttp!=4.0.0a0,!=4.0.0a1->fsspec[http]<=2025.3.0,>=2023.1.0->datasets) (1.20.0)\n",
            "Requirement already satisfied: six>=1.5 in /usr/local/lib/python3.11/dist-packages (from python-dateutil>=2.8.2->pandas->datasets) (1.17.0)\n",
            "Downloading datasets-3.6.0-py3-none-any.whl (491 kB)\n",
            "\u001b[2K   \u001b[90m━━━━━━━━━━━━━━━━━━━━━━━━━━━━━━━━━━━━━━━━\u001b[0m \u001b[32m491.5/491.5 kB\u001b[0m \u001b[31m17.7 MB/s\u001b[0m eta \u001b[36m0:00:00\u001b[0m\n",
            "\u001b[?25hDownloading dill-0.3.8-py3-none-any.whl (116 kB)\n",
            "\u001b[2K   \u001b[90m━━━━━━━━━━━━━━━━━━━━━━━━━━━━━━━━━━━━━━━━\u001b[0m \u001b[32m116.3/116.3 kB\u001b[0m \u001b[31m11.3 MB/s\u001b[0m eta \u001b[36m0:00:00\u001b[0m\n",
            "\u001b[?25hDownloading fsspec-2025.3.0-py3-none-any.whl (193 kB)\n",
            "\u001b[2K   \u001b[90m━━━━━━━━━━━━━━━━━━━━━━━━━━━━━━━━━━━━━━━━\u001b[0m \u001b[32m193.6/193.6 kB\u001b[0m \u001b[31m18.5 MB/s\u001b[0m eta \u001b[36m0:00:00\u001b[0m\n",
            "\u001b[?25hDownloading multiprocess-0.70.16-py311-none-any.whl (143 kB)\n",
            "\u001b[2K   \u001b[90m━━━━━━━━━━━━━━━━━━━━━━━━━━━━━━━━━━━━━━━━\u001b[0m \u001b[32m143.5/143.5 kB\u001b[0m \u001b[31m12.6 MB/s\u001b[0m eta \u001b[36m0:00:00\u001b[0m\n",
            "\u001b[?25hDownloading xxhash-3.5.0-cp311-cp311-manylinux_2_17_x86_64.manylinux2014_x86_64.whl (194 kB)\n",
            "\u001b[2K   \u001b[90m━━━━━━━━━━━━━━━━━━━━━━━━━━━━━━━━━━━━━━━━\u001b[0m \u001b[32m194.8/194.8 kB\u001b[0m \u001b[31m17.6 MB/s\u001b[0m eta \u001b[36m0:00:00\u001b[0m\n",
            "\u001b[?25hInstalling collected packages: xxhash, fsspec, dill, multiprocess, datasets\n",
            "  Attempting uninstall: fsspec\n",
            "    Found existing installation: fsspec 2025.3.2\n",
            "    Uninstalling fsspec-2025.3.2:\n",
            "      Successfully uninstalled fsspec-2025.3.2\n",
            "\u001b[31mERROR: pip's dependency resolver does not currently take into account all the packages that are installed. This behaviour is the source of the following dependency conflicts.\n",
            "gcsfs 2025.3.2 requires fsspec==2025.3.2, but you have fsspec 2025.3.0 which is incompatible.\n",
            "torch 2.6.0+cu124 requires nvidia-cublas-cu12==12.4.5.8; platform_system == \"Linux\" and platform_machine == \"x86_64\", but you have nvidia-cublas-cu12 12.5.3.2 which is incompatible.\n",
            "torch 2.6.0+cu124 requires nvidia-cuda-cupti-cu12==12.4.127; platform_system == \"Linux\" and platform_machine == \"x86_64\", but you have nvidia-cuda-cupti-cu12 12.5.82 which is incompatible.\n",
            "torch 2.6.0+cu124 requires nvidia-cuda-nvrtc-cu12==12.4.127; platform_system == \"Linux\" and platform_machine == \"x86_64\", but you have nvidia-cuda-nvrtc-cu12 12.5.82 which is incompatible.\n",
            "torch 2.6.0+cu124 requires nvidia-cuda-runtime-cu12==12.4.127; platform_system == \"Linux\" and platform_machine == \"x86_64\", but you have nvidia-cuda-runtime-cu12 12.5.82 which is incompatible.\n",
            "torch 2.6.0+cu124 requires nvidia-cudnn-cu12==9.1.0.70; platform_system == \"Linux\" and platform_machine == \"x86_64\", but you have nvidia-cudnn-cu12 9.3.0.75 which is incompatible.\n",
            "torch 2.6.0+cu124 requires nvidia-cufft-cu12==11.2.1.3; platform_system == \"Linux\" and platform_machine == \"x86_64\", but you have nvidia-cufft-cu12 11.2.3.61 which is incompatible.\n",
            "torch 2.6.0+cu124 requires nvidia-curand-cu12==10.3.5.147; platform_system == \"Linux\" and platform_machine == \"x86_64\", but you have nvidia-curand-cu12 10.3.6.82 which is incompatible.\n",
            "torch 2.6.0+cu124 requires nvidia-cusolver-cu12==11.6.1.9; platform_system == \"Linux\" and platform_machine == \"x86_64\", but you have nvidia-cusolver-cu12 11.6.3.83 which is incompatible.\n",
            "torch 2.6.0+cu124 requires nvidia-cusparse-cu12==12.3.1.170; platform_system == \"Linux\" and platform_machine == \"x86_64\", but you have nvidia-cusparse-cu12 12.5.1.3 which is incompatible.\n",
            "torch 2.6.0+cu124 requires nvidia-nvjitlink-cu12==12.4.127; platform_system == \"Linux\" and platform_machine == \"x86_64\", but you have nvidia-nvjitlink-cu12 12.5.82 which is incompatible.\u001b[0m\u001b[31m\n",
            "\u001b[0mSuccessfully installed datasets-3.6.0 dill-0.3.8 fsspec-2025.3.0 multiprocess-0.70.16 xxhash-3.5.0\n",
            "Collecting lingua-language-detector\n",
            "  Downloading lingua_language_detector-2.1.0-cp311-cp311-manylinux_2_17_x86_64.manylinux2014_x86_64.whl.metadata (32 kB)\n",
            "Downloading lingua_language_detector-2.1.0-cp311-cp311-manylinux_2_17_x86_64.manylinux2014_x86_64.whl (96.2 MB)\n",
            "\u001b[2K   \u001b[90m━━━━━━━━━━━━━━━━━━━━━━━━━━━━━━━━━━━━━━━━\u001b[0m \u001b[32m96.2/96.2 MB\u001b[0m \u001b[31m9.7 MB/s\u001b[0m eta \u001b[36m0:00:00\u001b[0m\n",
            "\u001b[?25hInstalling collected packages: lingua-language-detector\n",
            "Successfully installed lingua-language-detector-2.1.0\n"
          ]
        }
      ],
      "source": [
        "!pip install jieba\n",
        "!pip install emoji langdetect\n",
        "!pip install datasets\n",
        "!pip install lingua-language-detector"
      ]
    },
    {
      "cell_type": "code",
      "execution_count": null,
      "metadata": {
        "colab": {
          "base_uri": "https://localhost:8080/"
        },
        "id": "vhtPvgrLCUzp",
        "outputId": "1ecc2382-688c-437a-bc60-6b7a4ea45862"
      },
      "outputs": [
        {
          "output_type": "stream",
          "name": "stdout",
          "text": [
            "Requirement already satisfied: jieba in /usr/local/lib/python3.11/dist-packages (0.42.1)\n",
            "Requirement already satisfied: emoji in /usr/local/lib/python3.11/dist-packages (2.14.1)\n",
            "Requirement already satisfied: langdetect in /usr/local/lib/python3.11/dist-packages (1.0.9)\n",
            "Requirement already satisfied: pytz in /usr/local/lib/python3.11/dist-packages (2025.2)\n",
            "Requirement already satisfied: torch in /usr/local/lib/python3.11/dist-packages (2.6.0+cu124)\n",
            "Requirement already satisfied: lingua-language-detector in /usr/local/lib/python3.11/dist-packages (2.1.0)\n",
            "Requirement already satisfied: datasets in /usr/local/lib/python3.11/dist-packages (3.6.0)\n",
            "Requirement already satisfied: openpyxl in /usr/local/lib/python3.11/dist-packages (3.1.5)\n",
            "Requirement already satisfied: six in /usr/local/lib/python3.11/dist-packages (from langdetect) (1.17.0)\n",
            "Requirement already satisfied: filelock in /usr/local/lib/python3.11/dist-packages (from torch) (3.18.0)\n",
            "Requirement already satisfied: typing-extensions>=4.10.0 in /usr/local/lib/python3.11/dist-packages (from torch) (4.13.2)\n",
            "Requirement already satisfied: networkx in /usr/local/lib/python3.11/dist-packages (from torch) (3.4.2)\n",
            "Requirement already satisfied: jinja2 in /usr/local/lib/python3.11/dist-packages (from torch) (3.1.6)\n",
            "Requirement already satisfied: fsspec in /usr/local/lib/python3.11/dist-packages (from torch) (2025.3.0)\n",
            "Collecting nvidia-cuda-nvrtc-cu12==12.4.127 (from torch)\n",
            "  Downloading nvidia_cuda_nvrtc_cu12-12.4.127-py3-none-manylinux2014_x86_64.whl.metadata (1.5 kB)\n",
            "Collecting nvidia-cuda-runtime-cu12==12.4.127 (from torch)\n",
            "  Downloading nvidia_cuda_runtime_cu12-12.4.127-py3-none-manylinux2014_x86_64.whl.metadata (1.5 kB)\n",
            "Collecting nvidia-cuda-cupti-cu12==12.4.127 (from torch)\n",
            "  Downloading nvidia_cuda_cupti_cu12-12.4.127-py3-none-manylinux2014_x86_64.whl.metadata (1.6 kB)\n",
            "Collecting nvidia-cudnn-cu12==9.1.0.70 (from torch)\n",
            "  Downloading nvidia_cudnn_cu12-9.1.0.70-py3-none-manylinux2014_x86_64.whl.metadata (1.6 kB)\n",
            "Collecting nvidia-cublas-cu12==12.4.5.8 (from torch)\n",
            "  Downloading nvidia_cublas_cu12-12.4.5.8-py3-none-manylinux2014_x86_64.whl.metadata (1.5 kB)\n",
            "Collecting nvidia-cufft-cu12==11.2.1.3 (from torch)\n",
            "  Downloading nvidia_cufft_cu12-11.2.1.3-py3-none-manylinux2014_x86_64.whl.metadata (1.5 kB)\n",
            "Collecting nvidia-curand-cu12==10.3.5.147 (from torch)\n",
            "  Downloading nvidia_curand_cu12-10.3.5.147-py3-none-manylinux2014_x86_64.whl.metadata (1.5 kB)\n",
            "Collecting nvidia-cusolver-cu12==11.6.1.9 (from torch)\n",
            "  Downloading nvidia_cusolver_cu12-11.6.1.9-py3-none-manylinux2014_x86_64.whl.metadata (1.6 kB)\n",
            "Collecting nvidia-cusparse-cu12==12.3.1.170 (from torch)\n",
            "  Downloading nvidia_cusparse_cu12-12.3.1.170-py3-none-manylinux2014_x86_64.whl.metadata (1.6 kB)\n",
            "Requirement already satisfied: nvidia-cusparselt-cu12==0.6.2 in /usr/local/lib/python3.11/dist-packages (from torch) (0.6.2)\n",
            "Requirement already satisfied: nvidia-nccl-cu12==2.21.5 in /usr/local/lib/python3.11/dist-packages (from torch) (2.21.5)\n",
            "Requirement already satisfied: nvidia-nvtx-cu12==12.4.127 in /usr/local/lib/python3.11/dist-packages (from torch) (12.4.127)\n",
            "Collecting nvidia-nvjitlink-cu12==12.4.127 (from torch)\n",
            "  Downloading nvidia_nvjitlink_cu12-12.4.127-py3-none-manylinux2014_x86_64.whl.metadata (1.5 kB)\n",
            "Requirement already satisfied: triton==3.2.0 in /usr/local/lib/python3.11/dist-packages (from torch) (3.2.0)\n",
            "Requirement already satisfied: sympy==1.13.1 in /usr/local/lib/python3.11/dist-packages (from torch) (1.13.1)\n",
            "Requirement already satisfied: mpmath<1.4,>=1.1.0 in /usr/local/lib/python3.11/dist-packages (from sympy==1.13.1->torch) (1.3.0)\n",
            "Requirement already satisfied: numpy>=1.17 in /usr/local/lib/python3.11/dist-packages (from datasets) (2.0.2)\n",
            "Requirement already satisfied: pyarrow>=15.0.0 in /usr/local/lib/python3.11/dist-packages (from datasets) (18.1.0)\n",
            "Requirement already satisfied: dill<0.3.9,>=0.3.0 in /usr/local/lib/python3.11/dist-packages (from datasets) (0.3.8)\n",
            "Requirement already satisfied: pandas in /usr/local/lib/python3.11/dist-packages (from datasets) (2.2.2)\n",
            "Requirement already satisfied: requests>=2.32.2 in /usr/local/lib/python3.11/dist-packages (from datasets) (2.32.3)\n",
            "Requirement already satisfied: tqdm>=4.66.3 in /usr/local/lib/python3.11/dist-packages (from datasets) (4.67.1)\n",
            "Requirement already satisfied: xxhash in /usr/local/lib/python3.11/dist-packages (from datasets) (3.5.0)\n",
            "Requirement already satisfied: multiprocess<0.70.17 in /usr/local/lib/python3.11/dist-packages (from datasets) (0.70.16)\n",
            "Requirement already satisfied: huggingface-hub>=0.24.0 in /usr/local/lib/python3.11/dist-packages (from datasets) (0.30.2)\n",
            "Requirement already satisfied: packaging in /usr/local/lib/python3.11/dist-packages (from datasets) (24.2)\n",
            "Requirement already satisfied: pyyaml>=5.1 in /usr/local/lib/python3.11/dist-packages (from datasets) (6.0.2)\n",
            "Requirement already satisfied: et-xmlfile in /usr/local/lib/python3.11/dist-packages (from openpyxl) (2.0.0)\n",
            "Requirement already satisfied: aiohttp!=4.0.0a0,!=4.0.0a1 in /usr/local/lib/python3.11/dist-packages (from fsspec[http]<=2025.3.0,>=2023.1.0->datasets) (3.11.15)\n",
            "Requirement already satisfied: charset-normalizer<4,>=2 in /usr/local/lib/python3.11/dist-packages (from requests>=2.32.2->datasets) (3.4.1)\n",
            "Requirement already satisfied: idna<4,>=2.5 in /usr/local/lib/python3.11/dist-packages (from requests>=2.32.2->datasets) (3.10)\n",
            "Requirement already satisfied: urllib3<3,>=1.21.1 in /usr/local/lib/python3.11/dist-packages (from requests>=2.32.2->datasets) (2.4.0)\n",
            "Requirement already satisfied: certifi>=2017.4.17 in /usr/local/lib/python3.11/dist-packages (from requests>=2.32.2->datasets) (2025.4.26)\n",
            "Requirement already satisfied: MarkupSafe>=2.0 in /usr/local/lib/python3.11/dist-packages (from jinja2->torch) (3.0.2)\n",
            "Requirement already satisfied: python-dateutil>=2.8.2 in /usr/local/lib/python3.11/dist-packages (from pandas->datasets) (2.9.0.post0)\n",
            "Requirement already satisfied: tzdata>=2022.7 in /usr/local/lib/python3.11/dist-packages (from pandas->datasets) (2025.2)\n",
            "Requirement already satisfied: aiohappyeyeballs>=2.3.0 in /usr/local/lib/python3.11/dist-packages (from aiohttp!=4.0.0a0,!=4.0.0a1->fsspec[http]<=2025.3.0,>=2023.1.0->datasets) (2.6.1)\n",
            "Requirement already satisfied: aiosignal>=1.1.2 in /usr/local/lib/python3.11/dist-packages (from aiohttp!=4.0.0a0,!=4.0.0a1->fsspec[http]<=2025.3.0,>=2023.1.0->datasets) (1.3.2)\n",
            "Requirement already satisfied: attrs>=17.3.0 in /usr/local/lib/python3.11/dist-packages (from aiohttp!=4.0.0a0,!=4.0.0a1->fsspec[http]<=2025.3.0,>=2023.1.0->datasets) (25.3.0)\n",
            "Requirement already satisfied: frozenlist>=1.1.1 in /usr/local/lib/python3.11/dist-packages (from aiohttp!=4.0.0a0,!=4.0.0a1->fsspec[http]<=2025.3.0,>=2023.1.0->datasets) (1.6.0)\n",
            "Requirement already satisfied: multidict<7.0,>=4.5 in /usr/local/lib/python3.11/dist-packages (from aiohttp!=4.0.0a0,!=4.0.0a1->fsspec[http]<=2025.3.0,>=2023.1.0->datasets) (6.4.3)\n",
            "Requirement already satisfied: propcache>=0.2.0 in /usr/local/lib/python3.11/dist-packages (from aiohttp!=4.0.0a0,!=4.0.0a1->fsspec[http]<=2025.3.0,>=2023.1.0->datasets) (0.3.1)\n",
            "Requirement already satisfied: yarl<2.0,>=1.17.0 in /usr/local/lib/python3.11/dist-packages (from aiohttp!=4.0.0a0,!=4.0.0a1->fsspec[http]<=2025.3.0,>=2023.1.0->datasets) (1.20.0)\n",
            "Downloading nvidia_cublas_cu12-12.4.5.8-py3-none-manylinux2014_x86_64.whl (363.4 MB)\n",
            "\u001b[2K   \u001b[90m━━━━━━━━━━━━━━━━━━━━━━━━━━━━━━━━━━━━━━━━\u001b[0m \u001b[32m363.4/363.4 MB\u001b[0m \u001b[31m3.9 MB/s\u001b[0m eta \u001b[36m0:00:00\u001b[0m\n",
            "\u001b[?25hDownloading nvidia_cuda_cupti_cu12-12.4.127-py3-none-manylinux2014_x86_64.whl (13.8 MB)\n",
            "\u001b[2K   \u001b[90m━━━━━━━━━━━━━━━━━━━━━━━━━━━━━━━━━━━━━━━━\u001b[0m \u001b[32m13.8/13.8 MB\u001b[0m \u001b[31m118.6 MB/s\u001b[0m eta \u001b[36m0:00:00\u001b[0m\n",
            "\u001b[?25hDownloading nvidia_cuda_nvrtc_cu12-12.4.127-py3-none-manylinux2014_x86_64.whl (24.6 MB)\n",
            "\u001b[2K   \u001b[90m━━━━━━━━━━━━━━━━━━━━━━━━━━━━━━━━━━━━━━━━\u001b[0m \u001b[32m24.6/24.6 MB\u001b[0m \u001b[31m93.0 MB/s\u001b[0m eta \u001b[36m0:00:00\u001b[0m\n",
            "\u001b[?25hDownloading nvidia_cuda_runtime_cu12-12.4.127-py3-none-manylinux2014_x86_64.whl (883 kB)\n",
            "\u001b[2K   \u001b[90m━━━━━━━━━━━━━━━━━━━━━━━━━━━━━━━━━━━━━━━━\u001b[0m \u001b[32m883.7/883.7 kB\u001b[0m \u001b[31m61.1 MB/s\u001b[0m eta \u001b[36m0:00:00\u001b[0m\n",
            "\u001b[?25hDownloading nvidia_cudnn_cu12-9.1.0.70-py3-none-manylinux2014_x86_64.whl (664.8 MB)\n",
            "\u001b[2K   \u001b[90m━━━━━━━━━━━━━━━━━━━━━━━━━━━━━━━━━━━━━━━━\u001b[0m \u001b[32m664.8/664.8 MB\u001b[0m \u001b[31m1.8 MB/s\u001b[0m eta \u001b[36m0:00:00\u001b[0m\n",
            "\u001b[?25hDownloading nvidia_cufft_cu12-11.2.1.3-py3-none-manylinux2014_x86_64.whl (211.5 MB)\n",
            "\u001b[2K   \u001b[90m━━━━━━━━━━━━━━━━━━━━━━━━━━━━━━━━━━━━━━━━\u001b[0m \u001b[32m211.5/211.5 MB\u001b[0m \u001b[31m5.3 MB/s\u001b[0m eta \u001b[36m0:00:00\u001b[0m\n",
            "\u001b[?25hDownloading nvidia_curand_cu12-10.3.5.147-py3-none-manylinux2014_x86_64.whl (56.3 MB)\n",
            "\u001b[2K   \u001b[90m━━━━━━━━━━━━━━━━━━━━━━━━━━━━━━━━━━━━━━━━\u001b[0m \u001b[32m56.3/56.3 MB\u001b[0m \u001b[31m13.7 MB/s\u001b[0m eta \u001b[36m0:00:00\u001b[0m\n",
            "\u001b[?25hDownloading nvidia_cusolver_cu12-11.6.1.9-py3-none-manylinux2014_x86_64.whl (127.9 MB)\n",
            "\u001b[2K   \u001b[90m━━━━━━━━━━━━━━━━━━━━━━━━━━━━━━━━━━━━━━━━\u001b[0m \u001b[32m127.9/127.9 MB\u001b[0m \u001b[31m7.7 MB/s\u001b[0m eta \u001b[36m0:00:00\u001b[0m\n",
            "\u001b[?25hDownloading nvidia_cusparse_cu12-12.3.1.170-py3-none-manylinux2014_x86_64.whl (207.5 MB)\n",
            "\u001b[2K   \u001b[90m━━━━━━━━━━━━━━━━━━━━━━━━━━━━━━━━━━━━━━━━\u001b[0m \u001b[32m207.5/207.5 MB\u001b[0m \u001b[31m5.6 MB/s\u001b[0m eta \u001b[36m0:00:00\u001b[0m\n",
            "\u001b[?25hDownloading nvidia_nvjitlink_cu12-12.4.127-py3-none-manylinux2014_x86_64.whl (21.1 MB)\n",
            "\u001b[2K   \u001b[90m━━━━━━━━━━━━━━━━━━━━━━━━━━━━━━━━━━━━━━━━\u001b[0m \u001b[32m21.1/21.1 MB\u001b[0m \u001b[31m73.6 MB/s\u001b[0m eta \u001b[36m0:00:00\u001b[0m\n",
            "\u001b[?25hInstalling collected packages: nvidia-nvjitlink-cu12, nvidia-curand-cu12, nvidia-cufft-cu12, nvidia-cuda-runtime-cu12, nvidia-cuda-nvrtc-cu12, nvidia-cuda-cupti-cu12, nvidia-cublas-cu12, nvidia-cusparse-cu12, nvidia-cudnn-cu12, nvidia-cusolver-cu12\n",
            "  Attempting uninstall: nvidia-nvjitlink-cu12\n",
            "    Found existing installation: nvidia-nvjitlink-cu12 12.5.82\n",
            "    Uninstalling nvidia-nvjitlink-cu12-12.5.82:\n",
            "      Successfully uninstalled nvidia-nvjitlink-cu12-12.5.82\n",
            "  Attempting uninstall: nvidia-curand-cu12\n",
            "    Found existing installation: nvidia-curand-cu12 10.3.6.82\n",
            "    Uninstalling nvidia-curand-cu12-10.3.6.82:\n",
            "      Successfully uninstalled nvidia-curand-cu12-10.3.6.82\n",
            "  Attempting uninstall: nvidia-cufft-cu12\n",
            "    Found existing installation: nvidia-cufft-cu12 11.2.3.61\n",
            "    Uninstalling nvidia-cufft-cu12-11.2.3.61:\n",
            "      Successfully uninstalled nvidia-cufft-cu12-11.2.3.61\n",
            "  Attempting uninstall: nvidia-cuda-runtime-cu12\n",
            "    Found existing installation: nvidia-cuda-runtime-cu12 12.5.82\n",
            "    Uninstalling nvidia-cuda-runtime-cu12-12.5.82:\n",
            "      Successfully uninstalled nvidia-cuda-runtime-cu12-12.5.82\n",
            "  Attempting uninstall: nvidia-cuda-nvrtc-cu12\n",
            "    Found existing installation: nvidia-cuda-nvrtc-cu12 12.5.82\n",
            "    Uninstalling nvidia-cuda-nvrtc-cu12-12.5.82:\n",
            "      Successfully uninstalled nvidia-cuda-nvrtc-cu12-12.5.82\n",
            "  Attempting uninstall: nvidia-cuda-cupti-cu12\n",
            "    Found existing installation: nvidia-cuda-cupti-cu12 12.5.82\n",
            "    Uninstalling nvidia-cuda-cupti-cu12-12.5.82:\n",
            "      Successfully uninstalled nvidia-cuda-cupti-cu12-12.5.82\n",
            "  Attempting uninstall: nvidia-cublas-cu12\n",
            "    Found existing installation: nvidia-cublas-cu12 12.5.3.2\n",
            "    Uninstalling nvidia-cublas-cu12-12.5.3.2:\n",
            "      Successfully uninstalled nvidia-cublas-cu12-12.5.3.2\n",
            "  Attempting uninstall: nvidia-cusparse-cu12\n",
            "    Found existing installation: nvidia-cusparse-cu12 12.5.1.3\n",
            "    Uninstalling nvidia-cusparse-cu12-12.5.1.3:\n",
            "      Successfully uninstalled nvidia-cusparse-cu12-12.5.1.3\n",
            "  Attempting uninstall: nvidia-cudnn-cu12\n",
            "    Found existing installation: nvidia-cudnn-cu12 9.3.0.75\n",
            "    Uninstalling nvidia-cudnn-cu12-9.3.0.75:\n",
            "      Successfully uninstalled nvidia-cudnn-cu12-9.3.0.75\n",
            "  Attempting uninstall: nvidia-cusolver-cu12\n",
            "    Found existing installation: nvidia-cusolver-cu12 11.6.3.83\n",
            "    Uninstalling nvidia-cusolver-cu12-11.6.3.83:\n",
            "      Successfully uninstalled nvidia-cusolver-cu12-11.6.3.83\n",
            "Successfully installed nvidia-cublas-cu12-12.4.5.8 nvidia-cuda-cupti-cu12-12.4.127 nvidia-cuda-nvrtc-cu12-12.4.127 nvidia-cuda-runtime-cu12-12.4.127 nvidia-cudnn-cu12-9.1.0.70 nvidia-cufft-cu12-11.2.1.3 nvidia-curand-cu12-10.3.5.147 nvidia-cusolver-cu12-11.6.1.9 nvidia-cusparse-cu12-12.3.1.170 nvidia-nvjitlink-cu12-12.4.127\n"
          ]
        }
      ],
      "source": [
        "import sys\n",
        "!{sys.executable} -m pip install jieba emoji langdetect pytz torch lingua-language-detector datasets openpyxl"
      ]
    },
    {
      "cell_type": "markdown",
      "metadata": {
        "id": "8HGttCcMDKE0"
      },
      "source": [
        "## 引入套件"
      ]
    },
    {
      "cell_type": "code",
      "execution_count": null,
      "metadata": {
        "id": "JQ6rzOpBTI5K"
      },
      "outputs": [],
      "source": [
        "import pandas as pd\n",
        "import jieba\n",
        "from sklearn.feature_extraction.text import TfidfVectorizer, CountVectorizer\n",
        "import numpy as np\n",
        "\n",
        "import re\n",
        "import emoji\n",
        "import langdetect\n",
        "from langdetect import detect\n",
        "from lingua import LanguageDetectorBuilder, Language, IsoCode639_1\n",
        "from datetime import datetime\n",
        "import pytz\n",
        "from datasets import Dataset\n",
        "from sklearn.model_selection import train_test_split\n",
        "from sklearn.svm import SVC\n",
        "from sklearn.metrics import classification_report, accuracy_score\n",
        "from sklearn.preprocessing import LabelEncoder\n",
        "from transformers import AutoTokenizer, AutoModel\n",
        "import torch"
      ]
    },
    {
      "cell_type": "code",
      "execution_count": null,
      "metadata": {
        "colab": {
          "base_uri": "https://localhost:8080/"
        },
        "id": "zM7PgPNTPXMd",
        "outputId": "ca72f2aa-3135-4a1f-857e-ea5f956efe1f"
      },
      "outputs": [
        {
          "output_type": "stream",
          "name": "stdout",
          "text": [
            "Mounted at /content/drive\n"
          ]
        }
      ],
      "source": [
        "from google.colab import drive\n",
        "drive.mount('/content/drive')\n",
        "\n",
        "# 設定好路徑 (後面都是使用相對路徑)\n",
        "base_path = '/content/drive/My Drive/SMA'"
      ]
    },
    {
      "cell_type": "code",
      "execution_count": null,
      "metadata": {
        "colab": {
          "base_uri": "https://localhost:8080/",
          "height": 339
        },
        "id": "xOIyJJ3KSNT9",
        "outputId": "e38e0262-6047-4c2a-c225-454cac6940d1"
      },
      "outputs": [
        {
          "output_type": "error",
          "ename": "FileNotFoundError",
          "evalue": "[Errno 2] No such file or directory: 'threads.xlsx'",
          "traceback": [
            "\u001b[0;31m---------------------------------------------------------------------------\u001b[0m",
            "\u001b[0;31mFileNotFoundError\u001b[0m                         Traceback (most recent call last)",
            "\u001b[0;32m<ipython-input-8-1d360bec38d7>\u001b[0m in \u001b[0;36m<cell line: 0>\u001b[0;34m()\u001b[0m\n\u001b[1;32m      1\u001b[0m \u001b[0;31m# 讀取資料（請確認你的 Excel 路徑）\u001b[0m\u001b[0;34m\u001b[0m\u001b[0;34m\u001b[0m\u001b[0m\n\u001b[1;32m      2\u001b[0m \u001b[0;31m# df = pd.read_excel(base_path+\"/threads.xlsx\")\u001b[0m\u001b[0;34m\u001b[0m\u001b[0;34m\u001b[0m\u001b[0m\n\u001b[0;32m----> 3\u001b[0;31m \u001b[0mdf\u001b[0m \u001b[0;34m=\u001b[0m \u001b[0mpd\u001b[0m\u001b[0;34m.\u001b[0m\u001b[0mread_excel\u001b[0m\u001b[0;34m(\u001b[0m\u001b[0;34m\"threads.xlsx\"\u001b[0m\u001b[0;34m,\u001b[0m \u001b[0mengine\u001b[0m\u001b[0;34m=\u001b[0m\u001b[0;34m'openpyxl'\u001b[0m\u001b[0;34m)\u001b[0m\u001b[0;34m\u001b[0m\u001b[0;34m\u001b[0m\u001b[0m\n\u001b[0m\u001b[1;32m      4\u001b[0m \u001b[0mdf\u001b[0m\u001b[0;34m\u001b[0m\u001b[0;34m\u001b[0m\u001b[0m\n",
            "\u001b[0;32m/usr/local/lib/python3.11/dist-packages/pandas/io/excel/_base.py\u001b[0m in \u001b[0;36mread_excel\u001b[0;34m(io, sheet_name, header, names, index_col, usecols, dtype, engine, converters, true_values, false_values, skiprows, nrows, na_values, keep_default_na, na_filter, verbose, parse_dates, date_parser, date_format, thousands, decimal, comment, skipfooter, storage_options, dtype_backend, engine_kwargs)\u001b[0m\n\u001b[1;32m    493\u001b[0m     \u001b[0;32mif\u001b[0m \u001b[0;32mnot\u001b[0m \u001b[0misinstance\u001b[0m\u001b[0;34m(\u001b[0m\u001b[0mio\u001b[0m\u001b[0;34m,\u001b[0m \u001b[0mExcelFile\u001b[0m\u001b[0;34m)\u001b[0m\u001b[0;34m:\u001b[0m\u001b[0;34m\u001b[0m\u001b[0;34m\u001b[0m\u001b[0m\n\u001b[1;32m    494\u001b[0m         \u001b[0mshould_close\u001b[0m \u001b[0;34m=\u001b[0m \u001b[0;32mTrue\u001b[0m\u001b[0;34m\u001b[0m\u001b[0;34m\u001b[0m\u001b[0m\n\u001b[0;32m--> 495\u001b[0;31m         io = ExcelFile(\n\u001b[0m\u001b[1;32m    496\u001b[0m             \u001b[0mio\u001b[0m\u001b[0;34m,\u001b[0m\u001b[0;34m\u001b[0m\u001b[0;34m\u001b[0m\u001b[0m\n\u001b[1;32m    497\u001b[0m             \u001b[0mstorage_options\u001b[0m\u001b[0;34m=\u001b[0m\u001b[0mstorage_options\u001b[0m\u001b[0;34m,\u001b[0m\u001b[0;34m\u001b[0m\u001b[0;34m\u001b[0m\u001b[0m\n",
            "\u001b[0;32m/usr/local/lib/python3.11/dist-packages/pandas/io/excel/_base.py\u001b[0m in \u001b[0;36m__init__\u001b[0;34m(self, path_or_buffer, engine, storage_options, engine_kwargs)\u001b[0m\n\u001b[1;32m   1565\u001b[0m         \u001b[0mself\u001b[0m\u001b[0;34m.\u001b[0m\u001b[0mstorage_options\u001b[0m \u001b[0;34m=\u001b[0m \u001b[0mstorage_options\u001b[0m\u001b[0;34m\u001b[0m\u001b[0;34m\u001b[0m\u001b[0m\n\u001b[1;32m   1566\u001b[0m \u001b[0;34m\u001b[0m\u001b[0m\n\u001b[0;32m-> 1567\u001b[0;31m         self._reader = self._engines[engine](\n\u001b[0m\u001b[1;32m   1568\u001b[0m             \u001b[0mself\u001b[0m\u001b[0;34m.\u001b[0m\u001b[0m_io\u001b[0m\u001b[0;34m,\u001b[0m\u001b[0;34m\u001b[0m\u001b[0;34m\u001b[0m\u001b[0m\n\u001b[1;32m   1569\u001b[0m             \u001b[0mstorage_options\u001b[0m\u001b[0;34m=\u001b[0m\u001b[0mstorage_options\u001b[0m\u001b[0;34m,\u001b[0m\u001b[0;34m\u001b[0m\u001b[0;34m\u001b[0m\u001b[0m\n",
            "\u001b[0;32m/usr/local/lib/python3.11/dist-packages/pandas/io/excel/_openpyxl.py\u001b[0m in \u001b[0;36m__init__\u001b[0;34m(self, filepath_or_buffer, storage_options, engine_kwargs)\u001b[0m\n\u001b[1;32m    551\u001b[0m         \"\"\"\n\u001b[1;32m    552\u001b[0m         \u001b[0mimport_optional_dependency\u001b[0m\u001b[0;34m(\u001b[0m\u001b[0;34m\"openpyxl\"\u001b[0m\u001b[0;34m)\u001b[0m\u001b[0;34m\u001b[0m\u001b[0;34m\u001b[0m\u001b[0m\n\u001b[0;32m--> 553\u001b[0;31m         super().__init__(\n\u001b[0m\u001b[1;32m    554\u001b[0m             \u001b[0mfilepath_or_buffer\u001b[0m\u001b[0;34m,\u001b[0m\u001b[0;34m\u001b[0m\u001b[0;34m\u001b[0m\u001b[0m\n\u001b[1;32m    555\u001b[0m             \u001b[0mstorage_options\u001b[0m\u001b[0;34m=\u001b[0m\u001b[0mstorage_options\u001b[0m\u001b[0;34m,\u001b[0m\u001b[0;34m\u001b[0m\u001b[0;34m\u001b[0m\u001b[0m\n",
            "\u001b[0;32m/usr/local/lib/python3.11/dist-packages/pandas/io/excel/_base.py\u001b[0m in \u001b[0;36m__init__\u001b[0;34m(self, filepath_or_buffer, storage_options, engine_kwargs)\u001b[0m\n\u001b[1;32m    561\u001b[0m         )\n\u001b[1;32m    562\u001b[0m         \u001b[0;32mif\u001b[0m \u001b[0;32mnot\u001b[0m \u001b[0misinstance\u001b[0m\u001b[0;34m(\u001b[0m\u001b[0mfilepath_or_buffer\u001b[0m\u001b[0;34m,\u001b[0m \u001b[0;34m(\u001b[0m\u001b[0mExcelFile\u001b[0m\u001b[0;34m,\u001b[0m \u001b[0mself\u001b[0m\u001b[0;34m.\u001b[0m\u001b[0m_workbook_class\u001b[0m\u001b[0;34m)\u001b[0m\u001b[0;34m)\u001b[0m\u001b[0;34m:\u001b[0m\u001b[0;34m\u001b[0m\u001b[0;34m\u001b[0m\u001b[0m\n\u001b[0;32m--> 563\u001b[0;31m             self.handles = get_handle(\n\u001b[0m\u001b[1;32m    564\u001b[0m                 \u001b[0mfilepath_or_buffer\u001b[0m\u001b[0;34m,\u001b[0m \u001b[0;34m\"rb\"\u001b[0m\u001b[0;34m,\u001b[0m \u001b[0mstorage_options\u001b[0m\u001b[0;34m=\u001b[0m\u001b[0mstorage_options\u001b[0m\u001b[0;34m,\u001b[0m \u001b[0mis_text\u001b[0m\u001b[0;34m=\u001b[0m\u001b[0;32mFalse\u001b[0m\u001b[0;34m\u001b[0m\u001b[0;34m\u001b[0m\u001b[0m\n\u001b[1;32m    565\u001b[0m             )\n",
            "\u001b[0;32m/usr/local/lib/python3.11/dist-packages/pandas/io/common.py\u001b[0m in \u001b[0;36mget_handle\u001b[0;34m(path_or_buf, mode, encoding, compression, memory_map, is_text, errors, storage_options)\u001b[0m\n\u001b[1;32m    880\u001b[0m         \u001b[0;32melse\u001b[0m\u001b[0;34m:\u001b[0m\u001b[0;34m\u001b[0m\u001b[0;34m\u001b[0m\u001b[0m\n\u001b[1;32m    881\u001b[0m             \u001b[0;31m# Binary mode\u001b[0m\u001b[0;34m\u001b[0m\u001b[0;34m\u001b[0m\u001b[0m\n\u001b[0;32m--> 882\u001b[0;31m             \u001b[0mhandle\u001b[0m \u001b[0;34m=\u001b[0m \u001b[0mopen\u001b[0m\u001b[0;34m(\u001b[0m\u001b[0mhandle\u001b[0m\u001b[0;34m,\u001b[0m \u001b[0mioargs\u001b[0m\u001b[0;34m.\u001b[0m\u001b[0mmode\u001b[0m\u001b[0;34m)\u001b[0m\u001b[0;34m\u001b[0m\u001b[0;34m\u001b[0m\u001b[0m\n\u001b[0m\u001b[1;32m    883\u001b[0m         \u001b[0mhandles\u001b[0m\u001b[0;34m.\u001b[0m\u001b[0mappend\u001b[0m\u001b[0;34m(\u001b[0m\u001b[0mhandle\u001b[0m\u001b[0;34m)\u001b[0m\u001b[0;34m\u001b[0m\u001b[0;34m\u001b[0m\u001b[0m\n\u001b[1;32m    884\u001b[0m \u001b[0;34m\u001b[0m\u001b[0m\n",
            "\u001b[0;31mFileNotFoundError\u001b[0m: [Errno 2] No such file or directory: 'threads.xlsx'"
          ]
        }
      ],
      "source": [
        "# 讀取資料（請確認你的 Excel 路徑）\n",
        "# df = pd.read_excel(base_path+\"/threads.xlsx\")\n",
        "df = pd.read_excel(\"threads.xlsx\", engine='openpyxl')\n",
        "df"
      ]
    },
    {
      "cell_type": "code",
      "execution_count": null,
      "metadata": {
        "id": "kIM9eoPtiDSC"
      },
      "outputs": [],
      "source": [
        "# === 語言偵測修正版===\n",
        "lingua_detector = LanguageDetectorBuilder.from_all_languages().with_preloaded_language_models().build()\n",
        "lingua_available = True\n",
        "def detect_lang_with_preprocessing_lingua(text):\n",
        "    original_text = text\n",
        "\n",
        "    if pd.isna(text):\n",
        "        return \"unknown\"\n",
        "    text = str(text).strip()\n",
        "    if not text:\n",
        "        return \"unknown\"\n",
        "    try:\n",
        "      text_cleaned = re.sub(r'http\\S+|www\\S+|https\\S+', '', text, flags=re.MULTILINE)\n",
        "      text_cleaned = re.sub(r'@\\w+', '', text_cleaned)\n",
        "      text_cleaned = re.sub(r'#\\w+', '', text_cleaned)\n",
        "      text_cleaned = emoji.replace_emoji(text_cleaned, replace='')\n",
        "      text_cleaned = re.sub(r'\\s+', ' ', text_cleaned).strip()\n",
        "    except Exception as e:\n",
        "      return \"error_state_preprocessing\"\n",
        "\n",
        "    if not text_cleaned:\n",
        "      return \"empty_after_clean\"\n",
        "\n",
        "    try:\n",
        "      chinese_chars = re.findall(r'[\\u4e00-\\u9fff]', text_cleaned)\n",
        "      text_len = len(text_cleaned)\n",
        "      ratio = len(chinese_chars) / max(text_len, 1)\n",
        "      chinese_threshold = 0.3\n",
        "      if ratio > chinese_threshold:\n",
        "        return \"Ch\"\n",
        "\n",
        "      detected_language = lingua_detector.detect_language_of(text_cleaned)\n",
        "\n",
        "      if detected_language is not None:\n",
        "        iso_code = detected_language.iso_code_639_1.name\n",
        "        if iso_code == 'ZH':\n",
        "          return \"Ch\"\n",
        "        else:\n",
        "          return iso_code.lower()\n",
        "      else:\n",
        "        return \"unknown\"\n",
        "\n",
        "    except Exception as e:\n",
        "      return \"unknown\""
      ]
    },
    {
      "cell_type": "markdown",
      "metadata": {
        "id": "k_nqIl5HD2ia"
      },
      "source": [
        "## 清洗數據V1"
      ]
    },
    {
      "cell_type": "code",
      "execution_count": null,
      "metadata": {
        "id": "LsfgBIPFrsc1"
      },
      "outputs": [],
      "source": [
        "# === 數值欄位清洗（萬字、逗號格式處理）===\n",
        "def parse_count(value):\n",
        "    if pd.isna(value): return 0\n",
        "    value = str(value).replace(\",\", \"\")\n",
        "    if \"萬\" in value:\n",
        "        return int(float(value.replace(\"萬\", \"\")) * 10000)\n",
        "    try:\n",
        "        return int(float(value))\n",
        "    except:\n",
        "        return 0\n",
        "\n",
        "for col in [\"like_count\", \"view_count\", \"share_count\", \"repost_count\", \"reply_count\"]:\n",
        "    df[col] = df[col].apply(parse_count)\n",
        "\n",
        "# === 布林欄位處理 ===\n",
        "df[\"has_photo\"] = df[\"has_photo\"].apply(lambda x: str(x).strip().upper() == \"Y\")\n",
        "df[\"has_video\"] = df[\"has_video\"].apply(lambda x: str(x).strip().upper() == \"Y\")\n",
        "\n",
        "# === emoji 萃取與統計 ===\n",
        "def extract_emojis(text):\n",
        "    if not isinstance(text, str): return \"\"\n",
        "    return \"\".join([ch for ch in text if ch in emoji.EMOJI_DATA])\n",
        "\n",
        "df[\"emojis\"] = df[\"content\"].apply(extract_emojis)\n",
        "df[\"emoji_count\"] = df[\"emojis\"].apply(len)\n",
        "\n",
        "# # === 語言偵測修正版===\n",
        "# def detect_lang_custom(text):\n",
        "#     try:\n",
        "#         text = str(text)\n",
        "#         chinese_chars = re.findall(r'[\\u4e00-\\u9fff]', text)\n",
        "#         if len(chinese_chars) / max(len(text), 1) > 0.3:\n",
        "#             return \"Ch\"\n",
        "#         return detect(text)\n",
        "#     except:\n",
        "#         return \"unknown\"\n",
        "\n",
        "df[\"lang\"] = df[\"content\"].apply(detect_lang_with_preprocessing_lingua)\n",
        "\n",
        "# === scrape_time 處理（轉換時區 + 抽取星期與小時）===\n",
        "df[\"scrape_time_origin\"] = pd.to_datetime(df[\"scrape_time\"], utc=True).dt.tz_convert(\"Asia/Taipei\")\n",
        "df[\"scrape_time\"]  = df[\"scrape_time_origin\"].dt.strftime(\"%Y年%m月%d日 %H:%M\")\n",
        "df[\"post_weekday\"] = df[\"scrape_time_origin\"].dt.day_name()\n",
        "df[\"post_hour\"] = df[\"scrape_time_origin\"].dt.hour\n",
        "\n",
        "# === 是否為高流量文章（破萬）===\n",
        "df[\"viral\"] = (df[\"view_count\"] >= 10000).astype(int)\n",
        "\n",
        "# === 是否使用問號、驚嘆號 ===\n",
        "df[\"has_question\"] = df[\"content\"].apply(lambda x: \"？\" in str(x) or \"?\" in str(x))\n",
        "df[\"has_exclaim\"] = df[\"content\"].apply(lambda x: \"！\" in str(x) or \"!\" in str(x))\n",
        "\n",
        "# === 儲存結果 ===\n",
        "df.to_csv(\"threads_cleaned_v1.csv\",encoding='utf_8_sig', index=False)\n",
        "print(\"✅ 處理完成，已輸出 threads_cleaned_v1.csv\")\n",
        "display(df)\n"
      ]
    },
    {
      "cell_type": "markdown",
      "metadata": {
        "id": "KTVtegcwEfb1"
      },
      "source": [
        "## 清洗數據V2"
      ]
    },
    {
      "cell_type": "code",
      "execution_count": null,
      "metadata": {
        "id": "_a9vHZ0p9o2u"
      },
      "outputs": [],
      "source": [
        "# --- 文章長度 ---\n",
        "df[\"content_length\"] = df[\"content\"].apply(lambda x: len(str(x)))\n",
        "\n",
        "# --- 是否包含網址 ---\n",
        "df[\"has_url\"] = df[\"content\"].apply(lambda x: \"http\" in str(x) or \"www.\" in str(x))\n",
        "\n",
        "# --- 是否包含 @標記他人 ---\n",
        "df[\"has_mention\"] = df[\"content\"].apply(lambda x: \"@\" in str(x))\n",
        "\n",
        "# --- 是否使用 Hashtag ---\n",
        "df[\"has_hashtag\"] = df[\"content\"].apply(lambda x: \"#\" in str(x))\n",
        "\n",
        "# 貼文主題字詞提取（可後續做 TF-IDF 或主題建模）\n",
        "from sklearn.feature_extraction.text import CountVectorizer\n",
        "\n",
        "vectorizer = CountVectorizer(max_features=100, stop_words='english')\n",
        "word_matrix = vectorizer.fit_transform(df['content'].astype(str))\n",
        "\n",
        "# 將常見詞語提取出來\n",
        "keywords = vectorizer.get_feature_names_out()\n",
        "\n",
        "# 是否為深夜或白天貼文（時間段分類）\n",
        "def time_period(hour):\n",
        "    if 5 <= hour < 12:\n",
        "        return \"morning\"\n",
        "    elif 12 <= hour < 17:\n",
        "        return \"afternoon\"\n",
        "    elif 17 <= hour < 22:\n",
        "        return \"evening\"\n",
        "    else:\n",
        "        return \"night\"\n",
        "\n",
        "df[\"post_period\"] = df[\"post_hour\"].apply(time_period)\n",
        "\n",
        "cols_to_show_first = ['author', 'content', 'content_length', 'lang', 'scrape_time', 'post_weekday', 'post_hour', 'post_period', 'viral']\n",
        "df = df[cols_to_show_first + [col for col in df.columns if col not in cols_to_show_first]]\n",
        "df.to_csv(\"threads_cleaned_v2.csv\",encoding='utf_8_sig',index=False)\n",
        "print(\"✅ 處理完成，已輸出 threads_cleaned_v2.csv\")\n",
        "display(df)"
      ]
    },
    {
      "cell_type": "markdown",
      "metadata": {
        "id": "l9GcFmuNEsVn"
      },
      "source": [
        "## 清洗數據embbedding"
      ]
    },
    {
      "cell_type": "code",
      "execution_count": null,
      "metadata": {
        "id": "5H23LR9aF0ny"
      },
      "outputs": [],
      "source": [
        "from datasets import Dataset\n",
        "\n",
        "# =============== BERT 向量嵌入 ===============\n",
        "df = df.dropna(subset=['content']) #要先處理content空值才能embedding\n",
        "# --- 載入 tokenizer & model ---\n",
        "tokenizer = AutoTokenizer.from_pretrained(\"bert-base-chinese\")\n",
        "model = AutoModel.from_pretrained(\"bert-base-chinese\")\n",
        "device = \"mps\" if torch.backends.mps.is_available() else \"cuda\" if torch.cuda.is_available() else \"cpu\"\n",
        "model.to(device)\n",
        "\n",
        "# --- 建立 HuggingFace Dataset ---\n",
        "hf_dataset = Dataset.from_pandas(df[[\"content\"]])\n",
        "\n",
        "# --- tokenize function ---\n",
        "def tokenize_function(examples):\n",
        "    return tokenizer(examples['content'], truncation=True, padding='max_length', max_length=128)\n",
        "tokenized_dataset = hf_dataset.map(tokenize_function, batched=True)\n",
        "\n",
        "# --- 取得 [CLS] 向量 ---\n",
        "def extract_embeddings(batch):\n",
        "    inputs = {k: torch.tensor(v).to(model.device) for k, v in batch.items() if k in tokenizer.model_input_names}\n",
        "    with torch.no_grad():\n",
        "        outputs = model(**inputs)\n",
        "    embeddings = outputs.last_hidden_state[:, 0, :].detach().cpu().numpy()\n",
        "    return {\"embeddings\": embeddings}\n",
        "\n",
        "# --- 批次轉換為 embeddings ---\n",
        "batch_size = 64\n",
        "embeddings_dataset = tokenized_dataset.map(extract_embeddings, batched=True, batch_size=batch_size)\n",
        "\n",
        "# =============== 匯出最終結果 ===============\n",
        "# embeddings_dataset[\"embeddings\"] 是 list of 768-dim vectors\n",
        "embedding_df = pd.DataFrame(embeddings_dataset[\"embeddings\"])\n",
        "final_df = pd.concat([df.reset_index(drop=True), embedding_df], axis=1)\n",
        "\n",
        "# 儲存\n",
        "# final_df.to_csv(\"C:/Users/User/Desktop/louis/threads_with_embeddings.csv\",encoding='utf_8_sig', index=False)\n",
        "final_df.to_csv(\"threads_with_embeddings.csv\",encoding='utf_8_sig', index=False)\n",
        "print(\"✅ 全部處理完成，已輸出 threads_with_embeddings.csv\")"
      ]
    },
    {
      "cell_type": "markdown",
      "metadata": {
        "id": "1WxP6bcNEywY"
      },
      "source": [
        "## 分詞"
      ]
    },
    {
      "cell_type": "code",
      "execution_count": null,
      "metadata": {
        "id": "SovtoK069ox_"
      },
      "outputs": [],
      "source": [
        "stopwords = set(['的', '了', '在', '是', '和', '也', '與', '有', '為', '等'])\n",
        "\n",
        "def tokenize_and_remove_stopwords(text):\n",
        "    if not isinstance(text, str):\n",
        "        return ''\n",
        "    words = jieba.cut(text)\n",
        "    words_filtered = [word for word in words if word not in stopwords]\n",
        "    return ' '.join(words_filtered)\n",
        "\n",
        "\n",
        "df['processed_content'] = df['content'].apply(tokenize_and_remove_stopwords)\n",
        "df['processed_content'][2]"
      ]
    },
    {
      "cell_type": "markdown",
      "metadata": {
        "id": "UwCtvYh4E3vU"
      },
      "source": [
        "## 機器學習建模"
      ]
    },
    {
      "cell_type": "code",
      "execution_count": null,
      "metadata": {
        "id": "eFdTaLb79ovp"
      },
      "outputs": [],
      "source": [
        "# 計算 TF-IDF\n",
        "tfidf_vectorizer = TfidfVectorizer()\n",
        "tfidf_matrix = tfidf_vectorizer.fit_transform(df['processed_content'])\n",
        "\n",
        "# 計算 TF\n",
        "tf_vectorizer = CountVectorizer()\n",
        "tf_matrix = tf_vectorizer.fit_transform(df['processed_content'])\n",
        "\n",
        "print(tfidf_matrix)"
      ]
    },
    {
      "cell_type": "markdown",
      "metadata": {
        "id": "6wvN8ioFE8Cz"
      },
      "source": [
        "# 多模型分類實驗"
      ]
    },
    {
      "cell_type": "code",
      "execution_count": null,
      "metadata": {
        "id": "cROM4E4v9otD"
      },
      "outputs": [],
      "source": [
        "import pandas as pd\n",
        "import torch\n",
        "import torch.nn as nn\n",
        "from torch.utils.data import Dataset, DataLoader, WeightedRandomSampler, random_split\n",
        "from sklearn.preprocessing import LabelEncoder, StandardScaler\n",
        "from sklearn.metrics import classification_report\n",
        "from transformers import AutoTokenizer, AutoModel\n",
        "device = torch.device(\"cuda\" if torch.cuda.is_available() else \"cpu\")\n",
        "batch_size = 8\n",
        "num_epochs = 5\n",
        "# ========== 參數設定 ==========\n",
        "model_tokenizer_map = {\n",
        "    \"FusionMacBERT\": \"hfl/chinese-macbert-base\",\n",
        "    \"PureMacBERT\": \"hfl/chinese-macbert-base\",\n",
        "    \"NumericOnly\": None,\n",
        "    \"BiLSTMWithNumeric\": \"bert-base-chinese\",\n",
        "    \"MacBERTWithGRU\": \"hfl/chinese-macbert-base\",\n",
        "    \"MacBERTMLPFusion\": \"hfl/chinese-macbert-base\",\n",
        "    \"TextCNNMacBERT\": \"hfl/chinese-macbert-base\",\n",
        "    \"RoBERTa\": \"hfl/chinese-roberta-wwm-ext\",\n",
        "    \"BERTwwmExt\": \"hfl/chinese-bert-wwm-ext\",\n",
        "    \"ERNIE\": \"nghuyong/ernie-3.0-base-zh\",\n",
        "    \"ConvBERT\": \"YituTech/conv-bert-base\"\n",
        "}\n",
        "\n",
        "#tokenizer\n",
        "default_tokenizer_name = model_tokenizer_map[\"FusionMacBERT\"]\n",
        "tokenizer = AutoTokenizer.from_pretrained(default_tokenizer_name)\n",
        "\n",
        "#載入資料\n",
        "# df = pd.read_csv(\"C:/Users/User/Desktop/louis/threads_cleaned_v2.csv\", encoding='utf_8_sig')\n",
        "#df = df.dropna(subset=['content', 'view_count']).reset_index(drop=True)\n",
        "df"
      ]
    },
    {
      "cell_type": "markdown",
      "metadata": {
        "id": "To77Vfki2Jzf"
      },
      "source": [
        "# Label 分群 (用四分位數分三群)"
      ]
    },
    {
      "cell_type": "code",
      "execution_count": null,
      "metadata": {
        "id": "Df9cfTOt9oqs"
      },
      "outputs": [],
      "source": [
        "# Label 分群 ：標籤轉換（按瀏覽數進行分群）\n",
        "# 取「瀏覽數」的第 80 百分位作為高人氣門檻（q_high）、第 20 百分位作為低人氣門檻（q_low）\n",
        "# 把每筆資料的「view_count」劃分為三類：0 高人氣 (high)、1 中人氣 (medium)、2 低人氣 (low)\n",
        "q_high = df['view_count'].quantile(0.80)\n",
        "q_low = df['view_count'].quantile(0.20)\n",
        "df['view_class'] = df['view_count'].apply(lambda x: \"high\" if x >= q_high else (\"low\" if x <= q_low else \"medium\"))\n",
        "label_encoder = LabelEncoder()\n",
        "df['label'] = label_encoder.fit_transform(df['view_class'])\n",
        "\n",
        "#做 oversampling 類別資料平衡 ：資料增強（針對 high / low 類別 oversample）\n",
        "df_high = df[df['view_class'] == 'high']\n",
        "df_low = df[df['view_class'] == 'low']\n",
        "df_medium = df[df['view_class'] == 'medium']\n",
        "\n",
        "# 分別取出三個分類的樣本：對 high 與 low 分類做「過採樣」，各自複製三次，讓資料數量接近 medium\n",
        "# 再對整個資料表做隨機打散 (shuffle），避免模型學到資料順序的偏誤\n",
        "df_high_oversampled = pd.concat([df_high] * 3, ignore_index=True)\n",
        "df_low_oversampled = pd.concat([df_low] * 3, ignore_index=True)\n",
        "df = pd.concat([df_medium, df_high_oversampled, df_low_oversampled], ignore_index=True)\n",
        "df = df.sample(frac=1).reset_index(drop=True)\n"
      ]
    },
    {
      "cell_type": "code",
      "execution_count": null,
      "metadata": {
        "id": "-d1A_HlMu8Ae"
      },
      "outputs": [],
      "source": [
        "q_high"
      ]
    },
    {
      "cell_type": "code",
      "execution_count": null,
      "metadata": {
        "id": "HOiJNmCmu_uf"
      },
      "outputs": [],
      "source": [
        "q_low"
      ]
    },
    {
      "cell_type": "markdown",
      "metadata": {
        "id": "ibbctyH9CUzu"
      },
      "source": [
        "## Label 分群 （1000以下、1000~10000、10000~100000、100000以上)"
      ]
    },
    {
      "cell_type": "code",
      "execution_count": null,
      "metadata": {
        "id": "5yL13rSfCUzu"
      },
      "outputs": [],
      "source": [
        "# 將 view_count 分成四類：\n",
        "# 0: 小於 1000\n",
        "# 1: 1000 ~ 9999\n",
        "# 2: 10000 ~ 99999\n",
        "# 3: 100000 以上\n",
        "\n",
        "def map_view_class(x):\n",
        "    if x < 1000:\n",
        "        return 'low'\n",
        "    elif x < 10000:\n",
        "        return 'medium'\n",
        "    elif x < 100000:\n",
        "        return 'high'\n",
        "    else:\n",
        "        return 'very_high'\n",
        "\n",
        "df['view_class'] = df['view_count'].apply(map_view_class)\n",
        "\n",
        "# 編碼成數字 label\n",
        "label_encoder = LabelEncoder()\n",
        "df['label'] = label_encoder.fit_transform(df['view_class'])\n",
        "\n",
        "df_high = df[df['view_class'] == 'very_high']\n",
        "df_medium = df[df['view_class'] == 'high']\n",
        "df_low = df[df['view_class'] == 'medium']\n",
        "df_very_low = df[df['view_class'] == 'low']\n",
        "\n",
        "# 針對較少的類別進行擴增（假設 high 和 very_low 比較少）\n",
        "df_high_oversampled = pd.concat([df_high] * 3, ignore_index=True)\n",
        "df_very_low_oversampled = pd.concat([df_very_low] * 3, ignore_index=True)\n",
        "\n",
        "# 合併並打亂\n",
        "df = pd.concat([df_medium, df_low, df_high_oversampled, df_very_low_oversampled], ignore_index=True)\n",
        "df = df.sample(frac=1).reset_index(drop=True)\n",
        "\n",
        "df"
      ]
    },
    {
      "cell_type": "code",
      "execution_count": null,
      "metadata": {
        "id": "j32CLLcICUzu"
      },
      "outputs": [],
      "source": [
        "class RegressionDataset(Dataset):\n",
        "    def __init__(self, df):\n",
        "        self.input_ids = df['input_ids'].tolist()\n",
        "        self.attention_mask = df['attention_mask'].tolist()\n",
        "        self.numerics = df[num_cols].values\n",
        "        self.targets = df['target'].values\n",
        "\n",
        "    def __len__(self):\n",
        "        return len(self.targets)\n",
        "\n",
        "    def __getitem__(self, idx):\n",
        "        return {\n",
        "            'input_ids': torch.tensor(self.input_ids[idx], dtype=torch.long),\n",
        "            'attention_mask': torch.tensor(self.attention_mask[idx], dtype=torch.long),\n",
        "            'numerics': torch.tensor(self.numerics[idx], dtype=torch.float),\n",
        "            'target': torch.tensor(self.targets[idx], dtype=torch.float)\n",
        "        }\n"
      ]
    },
    {
      "cell_type": "markdown",
      "metadata": {
        "id": "UeqEslof2OBB"
      },
      "source": [
        "# Normalization 數值特徵標準化"
      ]
    },
    {
      "cell_type": "code",
      "execution_count": null,
      "metadata": {
        "id": "N3pJMu-g9on2"
      },
      "outputs": [],
      "source": [
        "# Normalization 數值特徵標準化\n",
        "base_num_cols = ['like_count', 'share_count', 'repost_count', 'reply_count', 'emoji_count', 'has_photo', 'has_video', 'has_question', 'has_exclaim', 'has_mention', 'has_url', 'has_hashtag', 'content_length']\n",
        "# 找出 one-hot 編碼的欄位（語言類型、發文時段、星期幾等類別欄位）\n",
        "# 使用 StandardScaler 將數值欄位轉換為「標準常態分布」（mean=0, std=1），有助於模型學習穩定。\n",
        "onehot_cols = [col for col in df.columns if col.startswith('lang_') or col.startswith('post_period_') or col.startswith('post_weekday_')]\n",
        "num_cols = base_num_cols + onehot_cols\n",
        "scaler = StandardScaler()\n",
        "df[num_cols] = scaler.fit_transform(df[num_cols])\n",
        "\n",
        "# Tokenizer 文本編碼 ：使用事先定義好的 tokenizer（例如 MacBERT、RoBERTa）對貼文進行斷詞、編碼\n",
        "# 將編碼後的結果儲存到 df 中，這兩個欄位會作為 BERT 模型的輸入\n",
        "encodings = tokenizer(df['content'].tolist(), truncation=True, padding='max_length', max_length=128)\n",
        "df['input_ids'] = encodings['input_ids']  # 斷詞後對應的詞彙 ID\n",
        "df['attention_mask'] = encodings['attention_mask']  # 對應位置是否是 padding（0）或實際內容（1）"
      ]
    },
    {
      "cell_type": "code",
      "execution_count": null,
      "metadata": {
        "id": "ZsA6q_qf9ojJ"
      },
      "outputs": [],
      "source": [
        "df"
      ]
    },
    {
      "cell_type": "code",
      "execution_count": null,
      "metadata": {
        "id": "4OBPv79a10W0"
      },
      "outputs": [],
      "source": [
        "# Dataset\n",
        "class CustomDataset(Dataset):\n",
        "    def __init__(self, df):\n",
        "        self.input_ids = df['input_ids'].tolist()\n",
        "        self.attention_mask = df['attention_mask'].tolist()\n",
        "        self.labels = df['label'].tolist()\n",
        "        self.numerics = df[num_cols].values\n",
        "\n",
        "    def __len__(self):\n",
        "        return len(self.labels)\n",
        "\n",
        "    def __getitem__(self, idx):\n",
        "        return {\n",
        "            'input_ids': torch.tensor(self.input_ids[idx], dtype=torch.long),\n",
        "            'attention_mask': torch.tensor(self.attention_mask[idx], dtype=torch.long),\n",
        "            'numerics': torch.tensor(self.numerics[idx], dtype=torch.float),\n",
        "            'labels': torch.tensor(self.labels[idx], dtype=torch.long)\n",
        "        }\n",
        "\n",
        "# Loss\n",
        "class FocalLoss(nn.Module):\n",
        "    def __init__(self, gamma=2.0):\n",
        "        super().__init__()\n",
        "        self.gamma = gamma\n",
        "        self.ce = nn.CrossEntropyLoss()\n",
        "\n",
        "    def forward(self, input, target):\n",
        "        logp = self.ce(input, target)\n",
        "        p = torch.exp(-logp)\n",
        "        loss = (1 - p) ** self.gamma * logp\n",
        "        return loss.mean()"
      ]
    },
    {
      "cell_type": "markdown",
      "metadata": {
        "id": "F_iVSfG82Gpt"
      },
      "source": [
        "#模型架構"
      ]
    },
    {
      "cell_type": "code",
      "execution_count": null,
      "metadata": {
        "id": "um-YKfVt10Uf"
      },
      "outputs": [],
      "source": [
        "#模型架構\n",
        "# 1. FusionMacBERT：BERT + 數值特徵 concat\n",
        "class FusionMacBERTModel(nn.Module):\n",
        "    def __init__(self, model_name, num_numeric_features, num_classes):\n",
        "        super().__init__()\n",
        "        self.bert = AutoModel.from_pretrained(model_name)\n",
        "        self.dropout = nn.Dropout(0.3)\n",
        "        self.numeric_fc = nn.Linear(num_numeric_features, 64)\n",
        "        self.classifier = nn.Linear(self.bert.config.hidden_size + 64, num_classes)\n",
        "\n",
        "    def forward(self, input_ids, attention_mask, numerics):\n",
        "        cls_output = self.bert(input_ids=input_ids, attention_mask=attention_mask).last_hidden_state[:, 0, :]\n",
        "        num_out = torch.relu(self.numeric_fc(numerics))\n",
        "        combined = torch.cat((cls_output, num_out), dim=1)\n",
        "        return self.classifier(self.dropout(combined))\n",
        "\n",
        "# 2. PureMacBERT：只有文字\n",
        "class PureMacBERTModel(nn.Module):\n",
        "    def __init__(self, model_name, num_classes):\n",
        "        super().__init__()\n",
        "        self.bert = AutoModel.from_pretrained(model_name)\n",
        "        self.dropout = nn.Dropout(0.3)\n",
        "        self.classifier = nn.Linear(self.bert.config.hidden_size, num_classes)\n",
        "\n",
        "    def forward(self, input_ids, attention_mask, numerics=None):\n",
        "        cls_output = self.bert(input_ids=input_ids, attention_mask=attention_mask).last_hidden_state[:, 0, :]\n",
        "        return self.classifier(self.dropout(cls_output))\n",
        "\n",
        "# 3. NumericOnly：只有數值特徵\n",
        "class NumericOnlyModel(nn.Module):\n",
        "    def __init__(self, num_numeric_features, num_classes):\n",
        "        super().__init__()\n",
        "        self.classifier = nn.Sequential(\n",
        "            nn.Linear(num_numeric_features, 64),\n",
        "            nn.ReLU(),\n",
        "            nn.Dropout(0.3),\n",
        "            nn.Linear(64, num_classes)\n",
        "        )\n",
        "\n",
        "    def forward(self, input_ids=None, attention_mask=None, numerics=None):\n",
        "        return self.classifier(numerics)\n",
        "\n",
        "# 4. BiLSTMWithNumeric：LSTM 處理詞嵌入 + 數值特徵\n",
        "class BiLSTMWithNumeric(nn.Module):\n",
        "    def __init__(self, vocab_size, embedding_dim, hidden_dim, num_numeric_features, num_classes):\n",
        "        super().__init__()\n",
        "        self.embedding = nn.Embedding(vocab_size, embedding_dim)\n",
        "        self.lstm = nn.LSTM(embedding_dim, hidden_dim, batch_first=True, bidirectional=True)\n",
        "        self.numeric_fc = nn.Linear(num_numeric_features, 64)\n",
        "        self.dropout = nn.Dropout(0.3)\n",
        "        self.classifier = nn.Linear(hidden_dim * 2 + 64, num_classes)\n",
        "\n",
        "    def forward(self, input_ids, attention_mask, numerics):\n",
        "        x = self.embedding(input_ids)\n",
        "        lstm_out, _ = self.lstm(x)\n",
        "        pooled = lstm_out[:, -1, :]\n",
        "        num_out = torch.relu(self.numeric_fc(numerics))\n",
        "        combined = torch.cat((pooled, num_out), dim=1)\n",
        "        return self.classifier(self.dropout(combined))\n",
        "\n",
        "# 5. MacBERTWithGRU：BERT + GRU + 數值特徵\n",
        "class MacBERTWithGRU(nn.Module):\n",
        "    def __init__(self, model_name, num_numeric_features, num_classes):\n",
        "        super().__init__()\n",
        "        self.bert = AutoModel.from_pretrained(model_name)\n",
        "        self.gru = nn.GRU(self.bert.config.hidden_size, 128, batch_first=True, bidirectional=True)\n",
        "        self.numeric_fc = nn.Linear(num_numeric_features, 64)\n",
        "        self.classifier = nn.Linear(128*2 + 64, num_classes)\n",
        "        self.dropout = nn.Dropout(0.3)\n",
        "\n",
        "    def forward(self, input_ids, attention_mask, numerics):\n",
        "        bert_out = self.bert(input_ids=input_ids, attention_mask=attention_mask).last_hidden_state\n",
        "        gru_out, _ = self.gru(bert_out)\n",
        "        pooled = gru_out[:, -1, :]\n",
        "        num_out = torch.relu(self.numeric_fc(numerics))\n",
        "        combined = torch.cat((pooled, num_out), dim=1)\n",
        "        return self.classifier(self.dropout(combined))\n",
        "\n",
        "# 6. MacBERTMLPFusion：BERT + 數值特徵 -> MLP\n",
        "class MacBERTMLPFusion(nn.Module):\n",
        "    def __init__(self, model_name, num_numeric_features, num_classes):\n",
        "        super().__init__()\n",
        "        self.bert = AutoModel.from_pretrained(model_name)\n",
        "        self.fc = nn.Sequential(\n",
        "            nn.Linear(self.bert.config.hidden_size + num_numeric_features, 256),\n",
        "            nn.ReLU(),\n",
        "            nn.Dropout(0.3),\n",
        "            nn.Linear(256, num_classes)\n",
        "        )\n",
        "\n",
        "    def forward(self, input_ids, attention_mask, numerics):\n",
        "        cls_output = self.bert(input_ids=input_ids, attention_mask=attention_mask).last_hidden_state[:, 0, :]\n",
        "        combined = torch.cat((cls_output, numerics), dim=1)\n",
        "        return self.fc(combined)\n",
        "\n",
        "# 7. TextCNNMacBERT：BERT 輸出卷積後 + 數值特徵\n",
        "class TextCNNMacBERT(nn.Module):\n",
        "    def __init__(self, model_name, num_numeric_features, num_classes):\n",
        "        super().__init__()\n",
        "        self.bert = AutoModel.from_pretrained(model_name)\n",
        "        self.convs = nn.ModuleList([nn.Conv2d(1, 64, (k, self.bert.config.hidden_size)) for k in [2, 3, 4]])\n",
        "        self.numeric_fc = nn.Linear(num_numeric_features, 64)\n",
        "        self.classifier = nn.Linear(64 * len([2, 3, 4]) + 64, num_classes)\n",
        "\n",
        "    def conv_and_pool(self, x, conv):\n",
        "        x = torch.relu(conv(x)).squeeze(3)\n",
        "        x = torch.max_pool1d(x, x.size(2)).squeeze(2)\n",
        "        return x\n",
        "\n",
        "    def forward(self, input_ids, attention_mask, numerics):\n",
        "        x = self.bert(input_ids=input_ids, attention_mask=attention_mask).last_hidden_state.unsqueeze(1)\n",
        "        cnn_out = torch.cat([self.conv_and_pool(x, conv) for conv in self.convs], 1)\n",
        "        num_out = torch.relu(self.numeric_fc(numerics))\n",
        "        combined = torch.cat((cnn_out, num_out), dim=1)\n",
        "        return self.classifier(combined)\n"
      ]
    },
    {
      "cell_type": "code",
      "execution_count": null,
      "metadata": {
        "id": "De3g_-Qs2Vux"
      },
      "outputs": [],
      "source": [
        "#訓練與評估\n",
        "def train_and_eval(model, name, preview_count=10):\n",
        "    model = model.to(torch.device(\"cuda\" if torch.cuda.is_available() else \"cpu\"))\n",
        "    optimizer = torch.optim.AdamW(model.parameters(), lr=2e-5)\n",
        "\n",
        "    loss_fn = FocalLoss()\n",
        "    # loss_fn = nn.MSELoss()\n",
        "\n",
        "    # 訓練階段\n",
        "    for epoch in range(5):\n",
        "        model.train()\n",
        "        for batch in train_loader:\n",
        "            optimizer.zero_grad()\n",
        "            input_ids = batch['input_ids'].to(device)\n",
        "            attention_mask = batch['attention_mask'].to(device)\n",
        "            numerics = batch['numerics'].to(device)\n",
        "            labels = batch['labels'].to(device)\n",
        "            output = model(input_ids, attention_mask, numerics)\n",
        "            loss = loss_fn(output, labels)\n",
        "            loss.backward()\n",
        "            optimizer.step()\n",
        "\n",
        "    # 評估階段\n",
        "    model.eval()\n",
        "    all_preds, all_labels = [], []\n",
        "    '''\n",
        "    with torch.no_grad():\n",
        "        for batch in test_loader:\n",
        "            input_ids = batch['input_ids'].to(device)\n",
        "            attention_mask = batch['attention_mask'].to(device)\n",
        "            numerics = batch['numerics'].to(device)\n",
        "            labels = batch['labels'].to(device)\n",
        "            output = model(input_ids, attention_mask, numerics)\n",
        "            preds = output.argmax(dim=1).cpu().numpy()\n",
        "            all_preds.extend(preds)\n",
        "            all_labels.extend(labels.cpu().numpy())\n",
        "\n",
        "    from sklearn.metrics import mean_squared_error, mean_absolute_error\n",
        "    mse = mean_squared_error(all_targets, all_preds)\n",
        "    mae = mean_absolute_error(all_targets, all_preds)\n",
        "    print(f\"[{name} 評估結果] MSE: {mse:.2f} | MAE: {mae:.2f}\")\n",
        "    print(f\"\\n{name} 評估結果：\")\n",
        "    print(classification_report(all_labels, all_preds, target_names=label_encoder.classes_))\n",
        "    '''\n",
        "    preview_shown = 0\n",
        "    with torch.no_grad():\n",
        "        for batch in test_loader:\n",
        "            input_ids = batch['input_ids'].to(device)\n",
        "            attention_mask = batch['attention_mask'].to(device)\n",
        "            numerics = batch['numerics'].to(device)\n",
        "            labels = batch['labels'].to(device)\n",
        "            output = model(input_ids, attention_mask, numerics)\n",
        "            preds = output.argmax(dim=1).cpu().numpy()\n",
        "            all_preds.extend(preds)\n",
        "            all_labels.extend(labels.cpu().numpy())\n",
        "\n",
        "            #印出前幾筆的預測、真實值\n",
        "            if preview_shown < preview_count:\n",
        "                batch_size = input_ids.shape[0]\n",
        "                for i in range(batch_size):\n",
        "                    if preview_shown >= preview_count:\n",
        "                        break\n",
        "                    input_id = input_ids[i].cpu().numpy()\n",
        "                    text = tokenizer.decode(input_id, skip_special_tokens=True)\n",
        "                    print(f\"\\n[{name} 預測] 第 {preview_shown+1} 筆\")\n",
        "                    print(f\"Text: {text}\")\n",
        "                    print(f\"Predicted: {label_encoder.inverse_transform([preds[i]])[0]}\")\n",
        "                    print(f\"Actual:    {label_encoder.inverse_transform([labels[i].cpu().item()])[0]}\")\n",
        "                    preview_shown += 1\n",
        "\n",
        "    print(f\"\\n{name} 評估結果：\")\n",
        "    print(classification_report(all_labels, all_preds, target_names=label_encoder.classes_))"
      ]
    },
    {
      "cell_type": "code",
      "execution_count": null,
      "metadata": {
        "id": "1wqejxS910SJ"
      },
      "outputs": [],
      "source": [
        "# 資料分割：資料集切分與取樣\n",
        "dataset = CustomDataset(df)\n",
        "train_size = int(0.8 * len(dataset))\n",
        "train_dataset, test_dataset = random_split(dataset, [train_size, len(dataset)-train_size])\n",
        "train_labels = [train_dataset[i]['labels'].item() for i in range(len(train_dataset))]\n",
        "class_counts = pd.Series(train_labels).value_counts().to_dict()\n",
        "weights = [1.0 / class_counts[label] for label in train_labels]\n",
        "sampler = WeightedRandomSampler(weights, len(weights), replacement=True)\n",
        "train_loader = DataLoader(train_dataset, batch_size=8, sampler=sampler)\n",
        "test_loader = DataLoader(test_dataset, batch_size=8)\n",
        "\n",
        "# 執行多模型訓練\n",
        "model_variants = {\n",
        "    \"FusionMacRegressor\": FusionMacBERTRegressor(\"hfl/chinese-macbert-base\", len(num_cols), 3),\n",
        "    \"FusionMacBERT\": FusionMacBERTModel(\"hfl/chinese-macbert-base\", len(num_cols), 3),\n",
        "    \"PureMacBERT\": PureMacBERTModel(\"hfl/chinese-macbert-base\", 3),\n",
        "    \"NumericOnly\": NumericOnlyModel(len(num_cols), 3),\n",
        "    \"BiLSTMWithNumeric\": BiLSTMWithNumeric(tokenizer.vocab_size, 128, 128, len(num_cols), 3),\n",
        "    \"MacBERTWithGRU\": MacBERTWithGRU(\"hfl/chinese-macbert-base\", len(num_cols), 3),\n",
        "    \"MacBERTMLPFusion\": MacBERTMLPFusion(\"hfl/chinese-macbert-base\", len(num_cols), 3),\n",
        "    \"TextCNNMacBERT\": TextCNNMacBERT(\"hfl/chinese-macbert-base\", len(num_cols), 3),\n",
        "    \"RoBERTa\": FusionMacBERTModel(\"hfl/chinese-roberta-wwm-ext\", len(num_cols), 3),\n",
        "    \"BERTwwmExt\": FusionMacBERTModel(\"hfl/chinese-bert-wwm-ext\", len(num_cols), 3),\n",
        "    \"ERNIE\": FusionMacBERTModel(\"nghuyong/ernie-3.0-base-zh\", len(num_cols), 3),\n",
        "    \"ConvBERT\": FusionMacBERTModel(\"YituTech/conv-bert-base\", len(num_cols), 3)\n",
        "}\n",
        "\n",
        "# 逐個模型訓練與輸出結果\n",
        "for name, model in model_variants.items():\n",
        "    tokenizer_name = model_tokenizer_map.get(name, default_tokenizer_name)\n",
        "    if tokenizer_name:\n",
        "        tokenizer = AutoTokenizer.from_pretrained(tokenizer_name)\n",
        "        encodings = tokenizer(df['content'].tolist(), truncation=True, padding='max_length', max_length=128)\n",
        "        df['input_ids'] = encodings['input_ids']\n",
        "        df['attention_mask'] = encodings['attention_mask']\n",
        "    train_and_eval(model, name)"
      ]
    },
    {
      "cell_type": "markdown",
      "metadata": {
        "id": "8WP2MxFtLUhR"
      },
      "source": [
        "1. FusionMacBERT ✅文字 + ✅數值\n",
        "BERT： 使用 MacBERT\n",
        "架構： 把 [CLS] 向量與數值特徵經過 MLP 融合\n",
        "用途： 做為 baseline 融合模型\n",
        "優點： 同時考慮內容語義與貼文統計資料（如按讚數、是否有 hashtag）\n",
        "\n",
        "2. PureMacBERT ✅文字 + ❌數值\n",
        "BERT： 使用 MacBERT\n",
        "架構： 單純使用 [CLS]，後接 linear 層分類\n",
        "用途： 純語言模型 baseline\n",
        "對照： 可用來比較是否有數值輔助提升效果\n",
        "\n",
        "3. NumericOnly ❌文字 + ✅數值\n",
        "模型類型： 只有數值輸入，經過 MLP 做分類\n",
        "用途： 測試「只靠貼文統計資料」能否達到合理分類\n",
        "對照： 可與文字模型或融合模型對比效果\n",
        "\n",
        "4. BiLSTMWithNumeric ✅文字（Embedding+LSTM）+ ✅數值\n",
        "嵌入方式： 使用 nn.Embedding + BiLSTM 處理文字（不是 BERT）\n",
        "融合方式： 將 LSTM 最後時間步 + 數值特徵拼接\n",
        "特別點： 測試「非 Transformer 模型」是否仍具競爭力\n",
        "\n",
        "5. MacBERTWithGRU ✅文字（MacBERT）+ ✅數值\n",
        "文字處理： MacBERT 之後再串 GRU\n",
        "融合方式： GRU 輸出最後一步拼接數值特徵\n",
        "意圖： 想看 BERT+RNN 的表現 vs. 傳統 BERT\n",
        "\n",
        "6. MacBERTMLPFusion ✅文字 + ✅數值\n",
        "處理方式： 文字與數值直接拼接後進入 MLP\n",
        "不同於 FusionMacBERT：\n",
        "沒有額外處理數值特徵（如沒有經過 nn.Linear)\n",
        "更單純的融合設計（屬於 Early Fusion）\n",
        "\n",
        "7. TextCNNMacBERT ✅文字 + ✅數值\n",
        "模型組合：\n",
        "使用 BERT 編碼後丟進 CNN filter (TextCNN)\n",
        "再與數值特徵融合\n",
        "用途： 測試 BERT 結合 CNN 特徵提取是否提升效果\n",
        "有趣點： 有些短文模型（如微博、Threads）對 CNN 特徵抓取敏感\n",
        "\n",
        "8. RoBERTa ✅文字 + ✅數值\n",
        "BERT 替代品： 改用 RoBERTa（中文版本）\n",
        "融合方式： 同 FusionMacBERT\n",
        "實驗目的： 測試不同語言模型對結果的影響（語言模型 ablation）\n",
        "\n",
        "\n",
        "9. BERTwwmExt ✅文字 + ✅數值\n",
        "BERT： 使用 Chinese BERT whole-word-masking 擴展版\n",
        "比較目的： 同上，用於測試不同語言模型特性的影響\n",
        "\n",
        "10. ERNIE ✅文字 + ✅數值\n",
        "BERT： 改用百度的 ERNIE（引入知識增強）\n",
        "適用場景： 當文本與常識有關（如話題、用語）\n",
        "目的： 評估知識型語言模型在社群文本分類的效果\n",
        "\n",
        "11. ConvBERT ✅文字 + ✅數值\n",
        "模型特色： 使用 Convolution + Self-Attention 混合架構的 BERT\n",
        "實驗意義： 試驗非傳統 Self-Attention 模型是否有優勢\n",
        "\n",
        "\n",
        "| 模型名稱              | 說明               | 是否融合 | 文本處理法         | 特殊處理       |\n",
        "| ----------------- | ---------------- | ---- | ------------- | ---------- |\n",
        "| FusionMacBERT     | BERT + 數值特徵      | ✅    | MacBERT       | 自製融合層      |\n",
        "| PureMacBERT       | 純文本模型            | ❌    | MacBERT       | baseline   |\n",
        "| NumericOnly       | 純統計數值            | ❌    | 無             | MLP only   |\n",
        "| BiLSTMWithNumeric | LSTM + 數值        | ✅    | nn.Embedding  | 不使用 BERT   |\n",
        "| MacBERTWithGRU    | BERT + GRU + 數值  | ✅    | MacBERT + GRU | 時序特徵強化     |\n",
        "| MacBERTMLPFusion  | BERT + 數值        | ✅    | MacBERT       | 拼接後進 MLP   |\n",
        "| TextCNNMacBERT    | BERT + CNN + 數值  | ✅    | MacBERT + CNN | 模仿 TextCNN |\n",
        "| RoBERTa           | 換 BERT backbone  | ✅    | RoBERTa       | 模型比較       |\n",
        "| BERTwwmExt        | 換 BERT backbone  | ✅    | BERT-wwm      | 模型比較       |\n",
        "| ERNIE             | 引入知識的 BERT       | ✅    | ERNIE         | 模型比較       |\n",
        "| ConvBERT          | 混合卷積 + 注意力的 BERT | ✅    | ConvBERT      | 模型比較       |\n",
        "\n",
        "\n"
      ]
    },
    {
      "cell_type": "code",
      "execution_count": null,
      "metadata": {
        "id": "OBCtDWKlz6m8"
      },
      "outputs": [],
      "source": [
        "# 資料分割：資料集切分與取樣\n",
        "dataset = CustomDataset(df)\n",
        "train_size = int(0.8 * len(dataset))\n",
        "train_dataset, test_dataset = random_split(dataset, [train_size, len(dataset)-train_size])\n",
        "train_labels = [train_dataset[i]['labels'].item() for i in range(len(train_dataset))]\n",
        "class_counts = pd.Series(train_labels).value_counts().to_dict()\n",
        "weights = [1.0 / class_counts[label] for label in train_labels]\n",
        "sampler = WeightedRandomSampler(weights, len(weights), replacement=True)\n",
        "train_loader = DataLoader(train_dataset, batch_size=8, sampler=sampler)\n",
        "test_loader = DataLoader(test_dataset, batch_size=8)\n",
        "\n",
        "# 執行多模型訓練\n",
        "model_variants = {\n",
        "    \"FusionMacBERT\": FusionMacBERTModel(\"hfl/chinese-macbert-base\", len(num_cols), 3),\n",
        "    \"PureMacBERT\": PureMacBERTModel(\"hfl/chinese-macbert-base\", 3),\n",
        "    \"NumericOnly\": NumericOnlyModel(len(num_cols), 3),\n",
        "    \"BiLSTMWithNumeric\": BiLSTMWithNumeric(tokenizer.vocab_size, 128, 128, len(num_cols), 3),\n",
        "    \"MacBERTWithGRU\": MacBERTWithGRU(\"hfl/chinese-macbert-base\", len(num_cols), 3),\n",
        "    \"MacBERTMLPFusion\": MacBERTMLPFusion(\"hfl/chinese-macbert-base\", len(num_cols), 3),\n",
        "    \"TextCNNMacBERT\": TextCNNMacBERT(\"hfl/chinese-macbert-base\", len(num_cols), 3),\n",
        "    \"RoBERTa\": FusionMacBERTModel(\"hfl/chinese-roberta-wwm-ext\", len(num_cols), 3),\n",
        "    \"BERTwwmExt\": FusionMacBERTModel(\"hfl/chinese-bert-wwm-ext\", len(num_cols), 3),\n",
        "    \"ERNIE\": FusionMacBERTModel(\"nghuyong/ernie-3.0-base-zh\", len(num_cols), 3),\n",
        "    \"ConvBERT\": FusionMacBERTModel(\"YituTech/conv-bert-base\", len(num_cols), 3)\n",
        "}\n",
        "\n",
        "# 逐個模型訓練與輸出結果\n",
        "for name, model in model_variants.items():\n",
        "    tokenizer_name = model_tokenizer_map.get(name, default_tokenizer_name)\n",
        "    if tokenizer_name:\n",
        "        tokenizer = AutoTokenizer.from_pretrained(tokenizer_name)\n",
        "        encodings = tokenizer(df['content'].tolist(), truncation=True, padding='max_length', max_length=128)\n",
        "        df['input_ids'] = encodings['input_ids']\n",
        "        df['attention_mask'] = encodings['attention_mask']\n",
        "    train_and_eval(model, name)"
      ]
    },
    {
      "cell_type": "markdown",
      "metadata": {
        "id": "1sd8HLHR6VL1"
      },
      "source": [
        "# 迴歸預測"
      ]
    },
    {
      "cell_type": "code",
      "execution_count": null,
      "metadata": {
        "id": "291iyZhHxpj9"
      },
      "outputs": [],
      "source": [
        "# 原本這樣分類（要拿掉）\n",
        "# df['view_class'] = ...\n",
        "# df['label'] = ...\n",
        "\n",
        "# 直接用原始 view_count 作為 regression target\n",
        "df = df.dropna(subset=[\"content\", \"view_count\"])\n",
        "df['target'] = df['view_count'].apply(parse_count)  # 如果 view_count 不是數字要先轉換\n"
      ]
    },
    {
      "cell_type": "code",
      "execution_count": null,
      "metadata": {
        "id": "dedliSNv7UGU"
      },
      "outputs": [],
      "source": [
        "def train_and_eval_regression(model, name):\n",
        "    model = model.to(device)\n",
        "    optimizer = torch.optim.AdamW(model.parameters(), lr=2e-5)\n",
        "    loss_fn = nn.MSELoss()\n",
        "\n",
        "    # 訓練\n",
        "    for epoch in range(5):\n",
        "        model.train()\n",
        "        for batch in train_loader:\n",
        "            optimizer.zero_grad()\n",
        "            input_ids = batch['input_ids'].to(device)\n",
        "            attention_mask = batch['attention_mask'].to(device)\n",
        "            numerics = batch['numerics'].to(device)\n",
        "            targets = batch['labels'].float().to(device)  # 重要：labels 必須是 float\n",
        "            preds = model(input_ids, attention_mask, numerics)\n",
        "            loss = loss_fn(preds, targets)\n",
        "            loss.backward()\n",
        "            optimizer.step()\n",
        "\n",
        "    # 評估\n",
        "    model.eval()\n",
        "    all_preds, all_targets = [], []\n",
        "    with torch.no_grad():\n",
        "        for batch in test_loader:\n",
        "            input_ids = batch['input_ids'].to(device)\n",
        "            attention_mask = batch['attention_mask'].to(device)\n",
        "            numerics = batch['numerics'].to(device)\n",
        "            targets = batch['labels'].float().to(device)\n",
        "            preds = model(input_ids, attention_mask, numerics)\n",
        "            all_preds.extend(preds.cpu().numpy())\n",
        "            all_targets.extend(targets.cpu().numpy())\n",
        "\n",
        "    from sklearn.metrics import mean_squared_error, mean_absolute_error\n",
        "    mse = mean_squared_error(all_targets, all_preds)\n",
        "    mae = mean_absolute_error(all_targets, all_preds)\n",
        "    r2 = r2_score(all_targets, all_preds)\n",
        "    print(f\"\\n{name}  MSE: {mse:.2f} | MAE: {mae:.2f}| R2: {r2:.2f}\")\n",
        "\n",
        "    from sklearn.metrics import mean_squared_error, mean_absolute_error, r2_score\n",
        "\n",
        "    return all_targets, all_preds\n",
        "\n",
        "\n",
        "\n"
      ]
    },
    {
      "cell_type": "code",
      "execution_count": null,
      "metadata": {
        "id": "5c7CQi1v6wwI"
      },
      "outputs": [],
      "source": [
        "class FusionMacBERTRegressor(nn.Module):\n",
        "    def __init__(self, model_name, num_numeric_features, output_dim=1):\n",
        "        super().__init__()\n",
        "        self.bert = AutoModel.from_pretrained(model_name)\n",
        "        self.dropout = nn.Dropout(0.3)\n",
        "        self.numeric_fc = nn.Linear(num_numeric_features, 64)\n",
        "        self.regressor = nn.Linear(self.bert.config.hidden_size + 64, output_dim)\n",
        "\n",
        "    def forward(self, input_ids, attention_mask, numerics):\n",
        "        cls_output = self.bert(input_ids=input_ids, attention_mask=attention_mask).last_hidden_state[:, 0, :]\n",
        "        num_out = torch.relu(self.numeric_fc(numerics))\n",
        "        combined = torch.cat((cls_output, num_out), dim=1)\n",
        "        return self.regressor(self.dropout(combined)).squeeze(1)  # (batch,)\n"
      ]
    },
    {
      "cell_type": "code",
      "execution_count": null,
      "metadata": {
        "id": "kTncOradCUz8"
      },
      "outputs": [],
      "source": [
        "rm -rf ~/.cache/huggingface/transformers/hfl__chinese-macbert-base\n"
      ]
    },
    {
      "cell_type": "code",
      "execution_count": null,
      "metadata": {
        "id": "ptY9GnoACUz8"
      },
      "outputs": [],
      "source": [
        "# Dataset\n",
        "'''\n",
        "class CustomDatasetRegression(Dataset):\n",
        "    def __init__(self, df):\n",
        "        self.input_ids = df['input_ids'].tolist()\n",
        "        self.attention_mask = df['attention_mask'].tolist()\n",
        "        self.labels = df['label'].astype(float).values   # ← 為回歸任務需轉成 float\n",
        "        self.numerics = df[num_cols].astype(float).values  # ← 確保為 float array\n",
        "\n",
        "    def __len__(self):\n",
        "        return len(self.labels)\n",
        "\n",
        "    def __getitem__(self, idx):\n",
        "        return {\n",
        "            'input_ids': torch.tensor(self.input_ids[idx], dtype=torch.long),\n",
        "            'attention_mask': torch.tensor(self.attention_mask[idx], dtype=torch.long),\n",
        "            'numerics': torch.tensor(self.numerics[idx], dtype=torch.float),  # ← 修正為 float\n",
        "            'labels': torch.tensor(self.labels[idx], dtype=torch.float)       # ← 修正為 float\n",
        "        }\n",
        "'''\n",
        "class CustomDatasetRegression(Dataset):\n",
        "    def __init__(self, df):\n",
        "        self.input_ids = df['input_ids'].tolist()\n",
        "        self.attention_mask = df['attention_mask'].tolist()\n",
        "        self.labels = df['target'].astype(float).values\n",
        "        self.numerics = df[num_cols].astype(float).values\n",
        "\n",
        "    def __len__(self):\n",
        "        return len(self.labels)\n",
        "\n",
        "    def __getitem__(self, idx):\n",
        "        return {\n",
        "            'input_ids': torch.tensor(self.input_ids[idx], dtype=torch.long),\n",
        "            'attention_mask': torch.tensor(self.attention_mask[idx], dtype=torch.long),\n",
        "            'numerics': torch.tensor(self.numerics[idx], dtype=torch.float),\n",
        "            'labels': torch.tensor(self.labels[idx], dtype=torch.float)\n",
        "        }\n",
        "\n",
        "# Loss\n",
        "class FocalLoss(nn.Module):\n",
        "    def __init__(self, gamma=2.0):\n",
        "        super().__init__()\n",
        "        self.gamma = gamma\n",
        "        self.ce = nn.CrossEntropyLoss()\n",
        "\n",
        "    def forward(self, input, target):\n",
        "        logp = self.ce(input, target)\n",
        "        p = torch.exp(-logp)\n",
        "        loss = (1 - p) ** self.gamma * logp\n",
        "        return loss.mean()"
      ]
    },
    {
      "cell_type": "code",
      "execution_count": null,
      "metadata": {
        "id": "Rlezwnry2K0h"
      },
      "outputs": [],
      "source": [
        "\n",
        "dataset = CustomDatasetRegression(df)\n",
        "train_size = int(0.8 * len(dataset))\n",
        "train_dataset, test_dataset = random_split(dataset, [train_size, len(dataset) - train_size])\n",
        "train_loader = DataLoader(train_dataset, batch_size=8, shuffle=True)\n",
        "test_loader = DataLoader(test_dataset, batch_size=8)\n",
        "\n",
        "\n",
        "class FusionMacBERTRegressor(nn.Module):\n",
        "    def __init__(self, model_name, num_numeric_features, output_dim=1):\n",
        "        super().__init__()\n",
        "        self.bert = AutoModel.from_pretrained(model_name)\n",
        "        self.dropout = nn.Dropout(0.3)\n",
        "        self.numeric_fc = nn.Linear(num_numeric_features, 64)\n",
        "        self.regressor = nn.Linear(self.bert.config.hidden_size + 64, output_dim)\n",
        "\n",
        "    def forward(self, input_ids, attention_mask, numerics):\n",
        "        cls_output = self.bert(input_ids=input_ids, attention_mask=attention_mask).last_hidden_state[:, 0, :]\n",
        "        num_out = torch.relu(self.numeric_fc(numerics))\n",
        "        combined = torch.cat((cls_output, num_out), dim=1)\n",
        "        return self.regressor(self.dropout(combined)).squeeze(1)\n",
        "\n",
        "\n",
        "def train_and_eval_regression(model, name):\n",
        "    model = model.to(device)\n",
        "    optimizer = torch.optim.AdamW(model.parameters(), lr=2e-5)\n",
        "    loss_fn = nn.MSELoss()\n",
        "\n",
        "    for epoch in range(5):\n",
        "        model.train()\n",
        "        for batch in train_loader:\n",
        "            optimizer.zero_grad()\n",
        "            input_ids = batch['input_ids'].to(device)\n",
        "            attention_mask = batch['attention_mask'].to(device)\n",
        "            numerics = batch['numerics'].to(device)\n",
        "            targets = batch['labels'].float().to(device)\n",
        "\n",
        "            preds = model(input_ids, attention_mask, numerics)\n",
        "            loss = loss_fn(preds, targets)\n",
        "            loss.backward()\n",
        "            optimizer.step()\n",
        "\n",
        "    model.eval()\n",
        "    all_preds, all_targets = [], []\n",
        "    with torch.no_grad():\n",
        "        for batch in test_loader:\n",
        "            input_ids = batch['input_ids'].to(device)\n",
        "            attention_mask = batch['attention_mask'].to(device)\n",
        "            numerics = batch['numerics'].to(device)\n",
        "            targets = batch['labels'].float().to(device)\n",
        "\n",
        "            preds = model(input_ids, attention_mask, numerics)\n",
        "            all_preds.extend(preds.cpu().numpy())\n",
        "            all_targets.extend(targets.cpu().numpy())\n",
        "\n",
        "    from sklearn.metrics import mean_squared_error, mean_absolute_error, r2_score\n",
        "    mse = mean_squared_error(all_targets, all_preds)\n",
        "    mae = mean_absolute_error(all_targets, all_preds)\n",
        "    r2 = r2_score(all_targets, all_preds)\n",
        "\n",
        "    print(f\"\\n{name}  MSE: {mse:.2f} | MAE: {mae:.2f} | R²: {r2:.2f}\")\n",
        "    return all_targets, all_preds\n",
        "\n",
        "\n",
        "model = FusionMacBERTRegressor(\"hfl/chinese-macbert-base\", len(num_cols))\n",
        "all_targets, all_preds = train_and_eval_regression(model, \"FusionMacBERTRegressor\")"
      ]
    },
    {
      "cell_type": "code",
      "execution_count": null,
      "metadata": {
        "id": "bQwvt6LQ10Pi"
      },
      "outputs": [],
      "source": [
        "\n"
      ]
    },
    {
      "cell_type": "code",
      "execution_count": null,
      "metadata": {
        "id": "RF-tbCHU10Ea"
      },
      "outputs": [],
      "source": []
    },
    {
      "cell_type": "code",
      "execution_count": null,
      "metadata": {
        "id": "EmUJQfroFBqt"
      },
      "outputs": [],
      "source": []
    },
    {
      "cell_type": "code",
      "execution_count": null,
      "metadata": {
        "id": "yEyKqKjE9oZy"
      },
      "outputs": [],
      "source": []
    },
    {
      "cell_type": "code",
      "execution_count": null,
      "metadata": {
        "id": "6OeqnHopFJuT"
      },
      "outputs": [],
      "source": []
    },
    {
      "cell_type": "code",
      "execution_count": null,
      "metadata": {
        "id": "Q0DyH1z7FJm3"
      },
      "outputs": [],
      "source": []
    },
    {
      "cell_type": "code",
      "execution_count": null,
      "metadata": {
        "id": "ZnoabF2fFJgR"
      },
      "outputs": [],
      "source": []
    },
    {
      "cell_type": "markdown",
      "metadata": {
        "id": "LaucnuMEFCV-"
      },
      "source": [
        "#**下面都是舊的東西而已~~~~**\n"
      ]
    },
    {
      "cell_type": "code",
      "execution_count": null,
      "metadata": {
        "id": "qvuTn85bUTA5"
      },
      "outputs": [],
      "source": [
        "stopwords = set(['的', '了', '在', '是', '和', '也', '與', '有', '為', '等'])\n",
        "\n",
        "def tokenize_and_remove_stopwords(text):\n",
        "    words = jieba.cut(text)\n",
        "    words_filtered = [word for word in words if word not in stopwords]\n",
        "    return ' '.join(words_filtered)\n",
        "\n",
        "df['processed_content'] = df['Content'].apply(tokenize_and_remove_stopwords)"
      ]
    },
    {
      "cell_type": "markdown",
      "metadata": {
        "id": "0nzhynZN7IYy"
      },
      "source": [
        "new_article = \"IC 設計大廠聯發科 (2454-TW) 副董事長暨執行長蔡力行今 (26) 日獲頒潘文淵獎，會後受訪表示，聯發科 3 奈米會在台積電 (2330-TW)(TSM-US) 做，且由於先進製程技術相當複雜，不論要採用或更換都非常困難，雙方會持續緊密合作。外界今日提問不論是輝達 (NVDA-US)、蘋果 (AAPL-US) 等都表示尋求多元的晶圓代工方案，蔡力行回應，聯發科在先進製程持續與台積電緊密合作，英特爾 (INTC-US) 則負責 16 奈米蔡力行也強調，聯發科不會只停在採用 4 奈米，也會採用 3 奈米製程，此外，由於電晶體微縮速度趨緩，儘管技術上可行，但不一定符合經濟效益，因此技術也逐步從平面變成 2D、2.5D，甚至 3D 等，先進封裝的重要性比以前增加。至於跟輝達合作，蔡力行重申，雙方合作仍以汽車為主，輝達布局車用比聯發科早，主要著墨在智慧座艙與 ADAS 系統，雙方有很好的配合，其中，輝達主攻高階、聯發科則瞄準中階，雙方正密切合作開會。\"\n",
        "processed_new_article = tokenize_and_remove_stopwords(new_article)\n",
        "\n",
        "# Random Forest 模型訓練與預測\n",
        "from sklearn.ensemble import RandomForestClassifier\n",
        "\n",
        "# 使用相同的數據分割方式\n",
        "X_train_rf, X_val_rf, y_train_rf, y_val_rf = train_test_split(tfidf_matrix, y, test_size=0.1, random_state=42)\n",
        "\n",
        "X_train_rf, X_val_rf, y_train_rf, y_val_rf = train_test_split(X_train_rf, y_train_rf, test_size=0.1, random_state=42)\n",
        "\n",
        "# 創建隨機森林模型\n",
        "rand_forest_model = RandomForestClassifier(n_estimators=100, random_state=42)\n",
        "\n",
        "# 訓練隨機森林模型\n",
        "rand_forest_model.fit(X_train_rf, y_train_rf)\n",
        "\n",
        "# 預測\n",
        "y_val_pred_rf = rand_forest_model.predict(X_val_rf)\n",
        "y_test_pred_rf = rand_forest_model.predict(X_test)\n",
        "\n",
        "# 分類報告\n",
        "print(\"驗證集 Validation Classification Report:\")\n",
        "print(classification_report(y_val_rf, y_val_pred_rf))\n",
        "\n",
        "print(\"\\n測試集 Test Classification Report:\")\n",
        "print(classification_report(y_test, y_test_pred_rf))\n",
        "\n",
        "# 對照表\n",
        "result_df_val_rf = pd.DataFrame({'Actual': y_val_rf, 'Predicted': y_val_pred_rf})\n",
        "result_df_test_rf = pd.DataFrame({'Actual': y_test, 'Predicted': y_test_pred_rf})\n",
        "\n",
        "print(\"驗證集 Validation Result Comparison:\")\n",
        "print(result_df_val_rf)\n",
        "\n",
        "print(\"\\n測試集 Test Result Comparison:\")\n",
        "print(result_df_test_rf)\n",
        "\n"
      ]
    },
    {
      "cell_type": "code",
      "execution_count": null,
      "metadata": {
        "id": "VTn9buro9xlD"
      },
      "outputs": [],
      "source": [
        "new_article = \"IC 設計大廠聯發科 (2454-TW) 副董事長暨執行長蔡力行今 (26) 日獲頒潘文淵獎，會後受訪表示，聯發科 3 奈米會在台積電 (2330-TW)(TSM-US) 做，且由於先進製程技術相當複雜，不論要採用或更換都非常困難，雙方會持續緊密合作。外界今日提問不論是輝達 (NVDA-US)、蘋果 (AAPL-US) 等都表示尋求多元的晶圓代工方案，蔡力行回應，聯發科在先進製程持續與台積電緊密合作，英特爾 (INTC-US) 則負責 16 奈米蔡力行也強調，聯發科不會只停在採用 4 奈米，也會採用 3 奈米製程，此外，由於電晶體微縮速度趨緩，儘管技術上可行，但不一定符合經濟效益，因此技術也逐步從平面變成 2D、2.5D，甚至 3D 等，先進封裝的重要性比以前增加。至於跟輝達合作，蔡力行重申，雙方合作仍以汽車為主，輝達布局車用比聯發科早，主要著墨在智慧座艙與 ADAS 系統，雙方有很好的配合，其中，輝達主攻高階、聯發科則瞄準中階，雙方正密切合作開會。\"\n",
        "\n",
        "processed_new_article = tokenize_and_remove_stopwords(new_article)\n",
        "\n",
        "print(processed_new_article)\n",
        "\n",
        "# 將新文章轉換為 TF-IDF 表示形式\n",
        "new_article_tfidf = tfidf_vectorizer.transform([processed_new_article])\n",
        "\n",
        "# 使用投票分類器進行預測\n",
        "predicted_label_ensemble = voting_classifier.predict(new_article_tfidf)\n",
        "\n",
        "print(f\"新文章預測結果: {predicted_label_ensemble}\")\n"
      ]
    },
    {
      "cell_type": "code",
      "execution_count": null,
      "metadata": {
        "id": "SjsKVnf0-iiU"
      },
      "outputs": [],
      "source": [
        "# 使用 inverse_transform 將預測的數字編碼轉換回原始標籤\n",
        "predicted_label_original = label_encoder.inverse_transform(predicted_label_ensemble)\n",
        "\n",
        "print(f\"新文章預測結果（原始標籤）: {predicted_label_original}\")\n"
      ]
    },
    {
      "cell_type": "markdown",
      "metadata": {
        "id": "yMJI_upxwRgP"
      },
      "source": [
        "## 實際預測（研究）\n"
      ]
    },
    {
      "cell_type": "code",
      "execution_count": null,
      "metadata": {
        "id": "9gbdm9r7_qFq"
      },
      "outputs": [],
      "source": [
        "# 獲取所有標籤對應的編碼\n",
        "all_labels = label_encoder.classes_\n",
        "\n",
        "print(\"所有標籤對應的編碼:\")\n",
        "for label_code, label in enumerate(all_labels):\n",
        "    print(f\"編碼 {label_code}: 標籤 {label}\")\n"
      ]
    },
    {
      "cell_type": "code",
      "execution_count": null,
      "metadata": {
        "id": "rTk9I4ZtEPBP"
      },
      "outputs": [],
      "source": [
        "import jieba\n",
        "\n",
        "# 定義停用詞\n",
        "stopwords = set(['的', '了', '在', '是', '和', '也', '與', '有', '為', '等'])\n",
        "\n",
        "# 定義分詞並去除停用詞的函數\n",
        "def tokenize_and_remove_stopwords(text):\n",
        "    words = jieba.cut(text)  # 使用 jieba 进行分词\n",
        "    words_filtered = [word for word in words if word not in stopwords]  # 去除停用词\n",
        "    return ' '.join(words_filtered)\n",
        "\n",
        "# 將處理後的內容加入 DataFrame 中\n",
        "df['processed_content'] = df['Content'].apply(tokenize_and_remove_stopwords)\n",
        "\n",
        "# 新文章\n",
        "new_article = \"台股守穩季線，週線三連紅。（資料照） 〔財經頻道／綜合報導〕美國CPI略高於市場預期，美股漲勢暫歇，本週以來，台股經過兩日大漲後，今（13）日指數震盪走低，終場下跌43.34點，以16782.57點作收，守住季線關卡，成交量為2986.08億元，週線上漲262點，呈現三連紅，緯創失守百元大關，AI族群普遍都是收黑，電子類股以矽光子、網通等次族群比較有表現，傳產輪動到營建、造紙、百貨等接棒演出。 前10大成交額個股漲多跌少，除了AI族群收黑，其他都是紅盤居多，廣達跌12元，收226元，成交額182.32億元，排名第1；台積電終場漲3元，收553元，成交額171.29億元，排名第2；矽統終場漲2.75元，收47.7元，成交額146.25億元，排名第3；定穎投控漲3.3元，收103元，成交額95.92億元，排名第4；緯創跌3.4元，收99.1元，成交額93.89億元，排名第5。 請繼續往下閱讀...  技嘉跌13.5元，收271元，成交額89.05億元，排名第6；創意收1695元平盤，成交額86.78億元，排名第7；聯發科上漲27元，收842元，成交額81.63億元，排名第8；裕隆漲1.1元，收85.1元，成交額66.51億元，排名第9；材料-KY漲 5元，收1185元，成交額63.34億元，排名第10。 一手掌握經濟脈動點我訂閱自由財經Youtube頻道 不用抽 不用搶 現在用APP看新聞 保證天天中獎點我下載APP按我看活動辦法 相關新聞\"\n",
        "\n",
        "# 處理新文章\n",
        "processed_new_article = tokenize_and_remove_stopwords(new_article)\n",
        "\n",
        "# 輸出處理後的文章\n",
        "print(processed_new_article)\n",
        "\n",
        "# 將新文章轉換為 TF-IDF 表示形式\n",
        "new_article_tfidf = tfidf_vectorizer.transform([processed_new_article])\n",
        "\n",
        "# 使用投票分類器進行預測\n",
        "predicted_label_ensemble = voting_classifier.predict(new_article_tfidf)\n",
        "\n",
        "# 輸出預測結果\n",
        "print(f\"新文章預測結果: {predicted_label_ensemble}\")\n"
      ]
    },
    {
      "cell_type": "code",
      "execution_count": null,
      "metadata": {
        "id": "wzB1yP1GFFki"
      },
      "outputs": [],
      "source": [
        "import jieba\n",
        "\n",
        "# 定義停用詞\n",
        "stopwords = set(['的', '了', '在', '是', '和', '也', '與', '有', '為', '等'])\n",
        "\n",
        "# 定義分詞並去除停用詞的函數\n",
        "def tokenize_and_remove_stopwords(text):\n",
        "    words = jieba.cut(text)  # 使用 jieba 进行分词\n",
        "    words_filtered = [word for word in words if word not in stopwords]  # 去除停用词\n",
        "    return ' '.join(words_filtered)\n",
        "\n",
        "# 將處理後的內容加入 DataFrame 中\n",
        "df['processed_content'] = df['Content'].apply(tokenize_and_remove_stopwords)\n",
        "\n",
        "# 新文章\n",
        "new_article = \"小漲\"\n",
        "\n",
        "# 處理新文章\n",
        "processed_new_article = tokenize_and_remove_stopwords(new_article)\n",
        "\n",
        "# 輸出處理後的文章\n",
        "print(processed_new_article)\n",
        "\n",
        "# 將新文章轉換為 TF-IDF 表示形式\n",
        "new_article_tfidf = tfidf_vectorizer.transform([processed_new_article])\n",
        "\n",
        "# 使用投票分類器進行預測\n",
        "predicted_label_ensemble = voting_classifier.predict(new_article_tfidf)\n",
        "\n",
        "# 輸出預測結果\n",
        "print(f\"新文章預測結果: {predicted_label_ensemble}\")"
      ]
    }
  ],
  "metadata": {
    "accelerator": "GPU",
    "colab": {
      "gpuType": "T4",
      "machine_shape": "hm",
      "provenance": []
    },
    "kernelspec": {
      "display_name": "Python 3",
      "name": "python3"
    },
    "language_info": {
      "codemirror_mode": {
        "name": "ipython",
        "version": 3
      },
      "file_extension": ".py",
      "mimetype": "text/x-python",
      "name": "python",
      "nbconvert_exporter": "python",
      "pygments_lexer": "ipython3",
      "version": "3.10.10"
    }
  },
  "nbformat": 4,
  "nbformat_minor": 0
}